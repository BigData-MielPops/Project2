{
 "cells": [
  {
   "cell_type": "code",
   "execution_count": 1,
   "metadata": {
    "collapsed": false
   },
   "outputs": [],
   "source": [
    "import subprocess\n",
    "import time"
   ]
  },
  {
   "cell_type": "code",
   "execution_count": 2,
   "metadata": {
    "collapsed": true
   },
   "outputs": [],
   "source": [
    "def run_command(command, verbose=True, save_mem=False):\n",
    "    process = subprocess.Popen(command, stdout=subprocess.PIPE, stderr=subprocess.STDOUT, shell=True)\n",
    "    returncode = process.wait()\n",
    "    output = \"\"\n",
    "    if not(save_mem):\n",
    "        output = process.stdout.read().decode('utf-8', 'replace').replace(\"\\r\", \"\").split(\"\\n\")\n",
    "        if verbose: \n",
    "            for line in output:\n",
    "                print (line)\n",
    "    return output"
   ]
  },
  {
   "cell_type": "code",
   "execution_count": 3,
   "metadata": {
    "collapsed": false
   },
   "outputs": [
    {
     "name": "stdout",
     "output_type": "stream",
     "text": [
      "Creating network \"docker_default\" with the default driver\n",
      "Creating neo4j ... \n",
      "Creating trafodion ... \n",
      "Creating mysql ... \n",
      "Creating cassandra ... \n",
      "Creating redis ... \n",
      "Creating cockroach ... \n",
      "Creating orientdb ... \n",
      "Creating mongo ... \n",
      "Creating nuodb ... \n",
      "Creating postgres ... \n",
      "Creating voltdb ... \n",
      "Creating memsql ... \n",
      "Creating neo4j\n",
      "Creating mysql\n",
      "Creating trafodion\n",
      "Creating cassandra\n",
      "Creating cockroach\n",
      "Creating redis\n",
      "Creating orientdb\n",
      "Creating mongo\n",
      "Creating nuodb\n",
      "Creating postgres\n",
      "Creating voltdb\n",
      "Creating memsql\n",
      "\u001b[1A\u001b[2KCreating trafodion ... \u001b[32mdone\u001b[0m\u001b[1B\u001b[1A\u001b[2KCreating postgres ... \u001b[32mdone\u001b[0m\u001b[1B\u001b[1A\u001b[2KCreating nuodb ... \u001b[32mdone\u001b[0m\u001b[1B\u001b[1A\u001b[2KCreating mysql ... \u001b[32mdone\u001b[0m\u001b[1B\u001b[1A\u001b[2KCreating neo4j ... \u001b[32mdone\u001b[0m\u001b[1B\u001b[1A\u001b[2KCreating memsql ... \u001b[32mdone\u001b[0m\u001b[1B\u001b[1A\u001b[2KCreating cockroach ... \u001b[32mdone\u001b[0m\u001b[1B\u001b[1A\u001b[2KCreating cassandra ... \u001b[32mdone\u001b[0m\u001b[1B\u001b[1A\u001b[2KCreating redis ... \u001b[32mdone\u001b[0m\u001b[1B\u001b[1A\u001b[2KCreating orientdb ... \u001b[32mdone\u001b[0m\u001b[1B\u001b[1A\u001b[2KCreating mongo ... \u001b[32mdone\u001b[0m\u001b[1B\u001b[1A\u001b[2KCreating voltdb ... \u001b[32mdone\u001b[0m\u001b[1B\n"
     ]
    }
   ],
   "source": [
    "o = run_command('D: && cd \"D:\\GitHub\\BigData\\Project2\\Docker\" && docker-compose up -d')"
   ]
  },
  {
   "cell_type": "code",
   "execution_count": 4,
   "metadata": {
    "collapsed": true
   },
   "outputs": [],
   "source": [
    "time.sleep(25) "
   ]
  },
  {
   "cell_type": "code",
   "execution_count": 5,
   "metadata": {
    "collapsed": true
   },
   "outputs": [],
   "source": [
    "containers = [\"mongo\", \"redis\", \"neo4j\", \"orientdb\", \"cassandra\", \"postgres\", \"mysql\", \"memsql\", \"voltdb\", \"cockroach\"]\n",
    "data_import_commands = [\n",
    "    \"mongoimport --db testing_db --collection customers --type csv --headerline --file /shared_data/mock_data_10000_rows.csv\",\n",
    "    \"cat /shared_data/mock_data_10000_rows2.csv | redis-cli --pipe\",\n",
    "    \"/var/lib/neo4j/bin/neo4j-admin import --mode=csv --database=mock.db  --nodes:Customer /shared_data/mock_data_10000_neo.csv --id-type=string\",\n",
    "    \"/orientdb/bin/oetl.sh /shared_scripts/import_orient_10000.json\",\n",
    "    \"cqlsh -f /shared_scripts/import_mock_10000.cql\",\n",
    "    \"echo ciao\",\n",
    "    \"echo ciao\",\n",
    "    \"echo ciao\",\n",
    "    \"echo ciao\",\n",
    "    \"echo ciao\"\n",
    "]\n",
    "import_times = [0] * 10"
   ]
  },
  {
   "cell_type": "code",
   "execution_count": 6,
   "metadata": {
    "collapsed": true
   },
   "outputs": [],
   "source": [
    "def exec_and_time(container, command, verbose=True, save_mem=False):\n",
    "    start = time.time()\n",
    "    o = run_command('docker exec --privileged ' + container + ' sh -c \"' + command + '\"', verbose, save_mem)\n",
    "    end = time.time()\n",
    "    return end - start"
   ]
  },
  {
   "cell_type": "code",
   "execution_count": 7,
   "metadata": {
    "collapsed": false
   },
   "outputs": [
    {
     "name": "stdout",
     "output_type": "stream",
     "text": [
      "mongo: 0.06604552268981934\n",
      "redis: 0.13695669174194336\n",
      "neo4j: 2.5894455909729004\n",
      "orientdb: 8.264142990112305\n",
      "cassandra: 0.040997982025146484\n",
      "postgres: 0.04300189018249512\n",
      "mysql: 0.04799962043762207\n",
      "memsql: 0.042999267578125\n",
      "voltdb: 0.09000039100646973\n",
      "cockroach: 0.08299922943115234\n"
     ]
    }
   ],
   "source": [
    "for i in range(0, len(containers)):\n",
    "    import_times[i] = exec_and_time(containers[i], data_import_commands[i], verbose=False, save_mem=True)\n",
    "    print(containers[i] + \": \" + str(import_times[i]))\n"
   ]
  },
  {
   "cell_type": "code",
   "execution_count": 8,
   "metadata": {
    "collapsed": false
   },
   "outputs": [
    {
     "name": "stdout",
     "output_type": "stream",
     "text": [
      "Stopping redis ... \n",
      "Stopping orientdb ... \n",
      "Stopping voltdb ... \n",
      "Stopping cockroach ... \n",
      "Stopping nuodb ... \n",
      "Stopping trafodion ... \n",
      "Stopping neo4j ... \n",
      "\u001b[4A\u001b[2KStopping cockroach ... \u001b[32mdone\u001b[0m\u001b[4B\u001b[6A\u001b[2KStopping orientdb ... \u001b[32mdone\u001b[0m\u001b[6B\u001b[5A\u001b[2KStopping voltdb ... \u001b[32mdone\u001b[0m\u001b[5B\u001b[1A\u001b[2KStopping neo4j ... \u001b[32mdone\u001b[0m\u001b[1B\u001b[2A\u001b[2KStopping trafodion ... \u001b[32mdone\u001b[0m\u001b[2B\u001b[7A\u001b[2KStopping redis ... \u001b[32mdone\u001b[0m\u001b[7B\u001b[3A\u001b[2KStopping nuodb ... \u001b[32mdone\u001b[0m\u001b[3BRemoving redis ... \n",
      "Removing orientdb ... \n",
      "Removing voltdb ... \n",
      "Removing cockroach ... \n",
      "Removing cassandra ... \n",
      "Removing memsql ... \n",
      "Removing mongo ... \n",
      "Removing nuodb ... \n",
      "Removing postgres ... \n",
      "Removing trafodion ... \n",
      "Removing mysql ... \n",
      "Removing neo4j ... \n",
      "\u001b[4A\u001b[2KRemoving postgres ... \u001b[32mdone\u001b[0m\u001b[4B\u001b[6A\u001b[2KRemoving mongo ... \u001b[32mdone\u001b[0m\u001b[6B\u001b[1A\u001b[2KRemoving neo4j ... \u001b[32mdone\u001b[0m\u001b[1B\u001b[7A\u001b[2KRemoving memsql ... \u001b[32mdone\u001b[0m\u001b[7B\u001b[10A\u001b[2KRemoving voltdb ... \u001b[32mdone\u001b[0m\u001b[10B\u001b[11A\u001b[2KRemoving orientdb ... \u001b[32mdone\u001b[0m\u001b[11B\u001b[8A\u001b[2KRemoving cassandra ... \u001b[32mdone\u001b[0m\u001b[8B\u001b[12A\u001b[2KRemoving redis ... \u001b[32mdone\u001b[0m\u001b[12B\u001b[9A\u001b[2KRemoving cockroach ... \u001b[32mdone\u001b[0m\u001b[9B\u001b[5A\u001b[2KRemoving nuodb ... \u001b[32mdone\u001b[0m\u001b[5B\u001b[3A\u001b[2KRemoving trafodion ... \u001b[32mdone\u001b[0m\u001b[3B\u001b[2A\u001b[2KRemoving mysql ... \u001b[32mdone\u001b[0m\u001b[2BRemoving network docker_default\n",
      "\n"
     ]
    }
   ],
   "source": [
    "o = run_command('D: && cd \"D:\\GitHub\\BigData\\Project2\\Docker\" && docker-compose down')"
   ]
  },
  {
   "cell_type": "code",
   "execution_count": null,
   "metadata": {
    "collapsed": true
   },
   "outputs": [],
   "source": []
  }
 ],
 "metadata": {
  "anaconda-cloud": {},
  "kernelspec": {
   "display_name": "Python [conda root]",
   "language": "python",
   "name": "conda-root-py"
  },
  "language_info": {
   "codemirror_mode": {
    "name": "ipython",
    "version": 3
   },
   "file_extension": ".py",
   "mimetype": "text/x-python",
   "name": "python",
   "nbconvert_exporter": "python",
   "pygments_lexer": "ipython3",
   "version": "3.5.2"
  }
 },
 "nbformat": 4,
 "nbformat_minor": 1
}
