{
 "cells": [
  {
   "cell_type": "markdown",
   "metadata": {},
   "source": [
    "# SQL vs NoSql vs NewSql"
   ]
  },
  {
   "cell_type": "markdown",
   "metadata": {},
   "source": [
    "This notebook is used to run code and generate graphs"
   ]
  },
  {
   "cell_type": "markdown",
   "metadata": {},
   "source": [
    "### Config"
   ]
  },
  {
   "cell_type": "code",
   "execution_count": 1,
   "metadata": {
    "collapsed": true
   },
   "outputs": [],
   "source": [
    "num_of_runs = 10"
   ]
  },
  {
   "cell_type": "markdown",
   "metadata": {},
   "source": [
    "### Imports"
   ]
  },
  {
   "cell_type": "code",
   "execution_count": 2,
   "metadata": {
    "collapsed": true
   },
   "outputs": [],
   "source": [
    "import subprocess\n",
    "import os\n",
    "import time\n",
    "import re\n",
    "import postgres_import as pos_i\n",
    "import mysql_import as my_i\n",
    "import memsql_import as mem_i\n",
    "import random"
   ]
  },
  {
   "cell_type": "markdown",
   "metadata": {},
   "source": [
    "### Helper function to generate a bar plot graph"
   ]
  },
  {
   "cell_type": "code",
   "execution_count": 3,
   "metadata": {
    "collapsed": true
   },
   "outputs": [],
   "source": [
    "import numpy as np\n",
    "from matplotlib import pyplot as plt\n",
    "\n",
    "def bar_plot(data, items, colours, title):\n",
    "    fig = plt.figure()\n",
    "    fig.set_size_inches(15, 7)\n",
    "\n",
    "    width = .45\n",
    "    ind = np.arange(len(data))\n",
    "    \n",
    "    plt.bar(0.3+ind, data, width=width, color=colours)\n",
    "    plt.xticks(0.3+ind, items)\n",
    "    plt.title(title)\n",
    "\n",
    "    fig.autofmt_xdate()\n",
    "\n",
    "    plt.show()"
   ]
  },
  {
   "cell_type": "markdown",
   "metadata": {},
   "source": [
    "### Helper function to run commands inside a shell"
   ]
  },
  {
   "cell_type": "code",
   "execution_count": 4,
   "metadata": {
    "collapsed": true
   },
   "outputs": [],
   "source": [
    "def run_command(command, verbose=True, save_mem=False):\n",
    "    process = subprocess.Popen(command, stdout=subprocess.PIPE, stderr=subprocess.STDOUT, shell=True)\n",
    "    returncode = process.wait()\n",
    "    output = \"\"\n",
    "    if not(save_mem):\n",
    "        output = process.stdout.read().decode('utf-8', 'replace').replace(\"\\r\", \"\").split(\"\\n\")\n",
    "        if verbose: \n",
    "            for line in output:\n",
    "                print (line)\n",
    "    return output\n",
    "\n",
    "def run_command2(command, verbose=True, save_mem=False):\n",
    "    process = subprocess.Popen(command, stdout=subprocess.PIPE, shell=True)\n",
    "    returncode = process.wait()\n",
    "    output = \"\"\n",
    "    if not(save_mem):\n",
    "        output = process.stdout.read().decode('utf-8', 'replace').replace(\"\\r\", \"\").split(\"\\n\")\n",
    "        if verbose: \n",
    "            for line in output:\n",
    "                print (line)\n",
    "    return output"
   ]
  },
  {
   "cell_type": "markdown",
   "metadata": {},
   "source": [
    "## Starting all the docker containers to check if it's all right"
   ]
  },
  {
   "cell_type": "code",
   "execution_count": 5,
   "metadata": {
    "collapsed": false
   },
   "outputs": [
    {
     "name": "stdout",
     "output_type": "stream",
     "text": [
      "Creating network \"docker_default\" with the default driver\n",
      "Creating nuodb\n",
      "Creating mysql\n",
      "Creating orientdb\n",
      "Creating postgres\n",
      "Creating cassandra\n",
      "Creating redis\n",
      "Creating voltdb\n",
      "Creating cockroach\n",
      "Creating trafodion\n",
      "Creating mongo\n",
      "Creating memsql\n",
      "Creating neo4j\n",
      "\n"
     ]
    }
   ],
   "source": [
    "_ = run_command('D: && cd \"D:\\GitHub\\BigData\\Project2\\Docker\" && docker-compose up -d')"
   ]
  },
  {
   "cell_type": "markdown",
   "metadata": {},
   "source": [
    "## Stopping all the containers\n",
    "Test functions will start and stop the containers many times in order to accurately measure times."
   ]
  },
  {
   "cell_type": "code",
   "execution_count": 6,
   "metadata": {
    "collapsed": false
   },
   "outputs": [
    {
     "name": "stdout",
     "output_type": "stream",
     "text": [
      "Stopping trafodion ... \n",
      "Stopping mysql ... \n",
      "Stopping neo4j ... \n",
      "Stopping memsql ... \n",
      "Stopping cockroach ... \n",
      "Stopping redis ... \n",
      "Stopping mongo ... \n",
      "Stopping postgres ... \n",
      "Stopping orientdb ... \n",
      "Stopping nuodb ... \n",
      "Stopping cassandra ... \n",
      "Stopping voltdb ... \n",
      "\u001b[3A\u001b[2KStopping nuodb ... done\u001b[3B\u001b[7A\u001b[2KStopping redis ... done\u001b[7B\u001b[2A\u001b[2KStopping cassandra ... done\u001b[2B\u001b[6A\u001b[2KStopping mongo ... done\u001b[6B\u001b[8A\u001b[2KStopping cockroach ... done\u001b[8B\u001b[10A\u001b[2KStopping neo4j ... done\u001b[10B\u001b[4A\u001b[2KStopping orientdb ... done\u001b[4B\u001b[9A\u001b[2KStopping memsql ... done\u001b[9B\u001b[5A\u001b[2KStopping postgres ... done\u001b[5B\u001b[12A\u001b[2KStopping trafodion ... done\u001b[12B\u001b[11A\u001b[2KStopping mysql ... done\u001b[11B\u001b[1A\u001b[2KStopping voltdb ... done\u001b[1BRemoving trafodion ... \n",
      "Removing mysql ... \n",
      "Removing neo4j ... \n",
      "Removing memsql ... \n",
      "Removing cockroach ... \n",
      "Removing redis ... \n",
      "Removing mongo ... \n",
      "Removing postgres ... \n",
      "Removing orientdb ... \n",
      "Removing nuodb ... \n",
      "Removing cassandra ... \n",
      "Removing voltdb ... \n",
      "\u001b[7A\u001b[2KRemoving redis ... done\u001b[7B\u001b[4A\u001b[2KRemoving orientdb ... done\u001b[4B\u001b[5A\u001b[2KRemoving postgres ... done\u001b[5B\u001b[10A\u001b[2KRemoving neo4j ... done\u001b[10B\u001b[3A\u001b[2KRemoving nuodb ... done\u001b[3B\u001b[8A\u001b[2KRemoving cockroach ... done\u001b[8B\u001b[9A\u001b[2KRemoving memsql ... done\u001b[9B\u001b[12A\u001b[2KRemoving trafodion ... done\u001b[12B\u001b[2A\u001b[2KRemoving cassandra ... done\u001b[2B\u001b[6A\u001b[2KRemoving mongo ... done\u001b[6B\u001b[11A\u001b[2KRemoving mysql ... done\u001b[11B\u001b[1A\u001b[2KRemoving voltdb ... done\u001b[1BRemoving network docker_default\n",
      "\n"
     ]
    }
   ],
   "source": [
    "_ = run_command('D: && cd \"D:\\GitHub\\BigData\\Project2\\Docker\" && docker-compose down')"
   ]
  },
  {
   "cell_type": "markdown",
   "metadata": {},
   "source": [
    "## Definitions"
   ]
  },
  {
   "cell_type": "code",
   "execution_count": 7,
   "metadata": {
    "collapsed": true
   },
   "outputs": [],
   "source": [
    "postgres_container = \"postgres\"\n",
    "containers = [\"mongo\", \"redis\", \"neo4j\", \"orientdb\", \"cassandra\", postgres_container, \"mysql\", \"memsql\", \"voltdb\", \"cockroach\"]\n",
    "colours = [\"lightgreen\", \"red\", \"deepskyblue\", \"orange\", \"skyblue\", \"lightsteelblue\", \"steelblue\", \"cornflowerblue\", \"firebrick\", \"darkgreen\"]"
   ]
  },
  {
   "cell_type": "markdown",
   "metadata": {},
   "source": [
    "### Helper functions to run tests and measure the time taken"
   ]
  },
  {
   "cell_type": "code",
   "execution_count": 8,
   "metadata": {
    "collapsed": true
   },
   "outputs": [],
   "source": [
    "def exec_and_time(container, command, verbose=True, save_mem=False):\n",
    "    start = time.time()\n",
    "    if container == postgres_container or container == \"mysql\" or container == \"memsql\":\n",
    "        command[0](os.path.join(os.path.abspath('./Docker/shared_data'),command[1]))\n",
    "    elif container == \"cockroach\":\n",
    "        _ = run_command('docker exec --privileged ' + container + ' sh -c \"' + command[0] + '\"', verbose, save_mem)\n",
    "        _ = run_command('docker exec --privileged --user postgres '+ postgres_container +' sh -c \"' + command[1] + '\"', verbose, save_mem)\n",
    "    elif container == \"cassandra\":\n",
    "        _ = run_command2('docker exec --privileged ' + container + ' '+ command[0] +' -c \"' + command[1] + '\"', verbose, save_mem)\n",
    "    else: \n",
    "        _ = run_command('docker exec --privileged ' + container + ' sh -c \"' + command + '\"', verbose, save_mem)\n",
    "    end = time.time()\n",
    "    return end - start"
   ]
  },
  {
   "cell_type": "code",
   "execution_count": 9,
   "metadata": {
    "collapsed": false
   },
   "outputs": [],
   "source": [
    "def average_time(commands, containers, iterations, verbose=True, import_data=False):\n",
    "    times = [0] * len(containers)\n",
    "    peak_times = [0] * len(containers)\n",
    "    for j in range(0, iterations):\n",
    "        if verbose:\n",
    "            print(\"iteration \" + str(j+1))\n",
    "        _ = run_command('D: && cd \"D:\\GitHub\\BigData\\Project2\\Docker\" && docker-compose up -d', verbose=False)\n",
    "        if verbose:\n",
    "            print(\"waiting...\")\n",
    "        time.sleep(25) \n",
    "        for i in range(0, len(containers)):\n",
    "            if verbose:\n",
    "                print(containers[i])\n",
    "                \n",
    "            coackroach_ip = \"\"\n",
    "            \n",
    "            app1 = data_import_commands[i]\n",
    "            app2 = commands[i]\n",
    "            \n",
    "            if containers[i] == \"cockroach\":\n",
    "                ip = run_command('docker exec cockroach ip route', verbose=False)\n",
    "                ip = ip[len(ip)-2].split(\" \")\n",
    "                ip = ip[len(ip)-2]\n",
    "                cockroach_ip = ip\n",
    "                #print(cockroach_ip)\n",
    "                data_import_commands[i][1] = data_import_commands[i][1].replace(\"{{cockroach_ip}}\", cockroach_ip)\n",
    "                commands[i][1].replace(\"{{coackroach_ip}}\", coackroach_ip)\n",
    "            if import_data:\n",
    "                exec_and_time(containers[i], data_import_commands[i], verbose=False, save_mem=True)\n",
    "                \n",
    "            data_import_commands[i] = app1\n",
    "            commands[i] = app2\n",
    "            \n",
    "            time_taken = exec_and_time(containers[i], commands[i], verbose=False, save_mem=True)\n",
    "            times[i] += time_taken\n",
    "            if peak_times[i] < time_taken:\n",
    "                peak_times[i] = time_taken\n",
    "        if j < iterations-1:\n",
    "            _ = run_command('D: && cd \"D:\\GitHub\\BigData\\Project2\\Docker\" && docker-compose down', verbose=False)\n",
    "    for i in range(0, len(containers)):\n",
    "        times[i] = times[i]/iterations\n",
    "        print(containers[i] + \": \" + str(times[i]))\n",
    "    return (times, peak_times)"
   ]
  },
  {
   "cell_type": "markdown",
   "metadata": {},
   "source": [
    "## Average bulk import time"
   ]
  },
  {
   "cell_type": "markdown",
   "metadata": {},
   "source": [
    "### Import commands"
   ]
  },
  {
   "cell_type": "code",
   "execution_count": 10,
   "metadata": {
    "collapsed": false
   },
   "outputs": [],
   "source": [
    "data_import_commands = [\n",
    "    \"mongoimport --db testing_db --collection customers --type csv --headerline --file /shared_data/mock_data_10000_rows.csv && mongo testing_db --eval 'db.customers.createIndex({Id:1});'\",\n",
    "    \"cat /shared_data/mock_data_10000_rows2.csv | redis-cli --pipe\",\n",
    "    \"cp /shared_data/mock_data_10000_neo.csv /var/lib/neo4j/import && cat /shared_scripts/import_mock_10000.cypher | /var/lib/neo4j/bin/cypher-shell\",\n",
    "    \"/orientdb/bin/oetl.sh /shared_scripts/import_orient_10000.json\",\n",
    "    [\"bash\", \"cqlsh -f /shared_scripts/import_mock_10000.cql\"],\n",
    "    [pos_i.sql_import, \"mock_data_10000_rows_utf8.csv\"], #postgres\n",
    "    [my_i.sql_import, \"mock_data_10000_rows_utf8.csv\"], #mysql\n",
    "    [mem_i.sql_import, \"mock_data_10000_rows_utf8.csv\"], #memsql\n",
    "    \"cat /shared_scripts/import_voltdb.sql | sqlcmd && /opt/voltdb/bin/csvloader customers -f /shared_data/mock_data_10000_rows.csv\",\n",
    "    [\"./cockroach sql --insecure --execute='create database if not exists mock;'\", \"psql -p 26257 -h {{cockroach_ip}} -d mock -U root < /shared_data/postgres_dump.sql\"]\n",
    "]"
   ]
  },
  {
   "cell_type": "markdown",
   "metadata": {},
   "source": [
    "#### Iterating"
   ]
  },
  {
   "cell_type": "code",
   "execution_count": 11,
   "metadata": {
    "collapsed": false
   },
   "outputs": [
    {
     "name": "stdout",
     "output_type": "stream",
     "text": [
      "iteration 1\n",
      "waiting...\n",
      "mongo\n",
      "redis\n",
      "neo4j\n",
      "orientdb\n",
      "cassandra\n",
      "postgres\n",
      "mysql\n",
      "memsql\n",
      "voltdb\n",
      "cockroach\n",
      "iteration 2\n",
      "waiting...\n",
      "mongo\n",
      "redis\n",
      "neo4j\n",
      "orientdb\n",
      "cassandra\n",
      "postgres\n",
      "mysql\n",
      "memsql\n",
      "voltdb\n",
      "cockroach\n",
      "iteration 3\n",
      "waiting...\n",
      "mongo\n",
      "redis\n",
      "neo4j\n",
      "orientdb\n",
      "cassandra\n",
      "postgres\n",
      "mysql\n",
      "memsql\n",
      "voltdb\n",
      "cockroach\n",
      "iteration 4\n",
      "waiting...\n",
      "mongo\n",
      "redis\n",
      "neo4j\n",
      "orientdb\n",
      "cassandra\n",
      "postgres\n",
      "mysql\n",
      "memsql\n",
      "voltdb\n",
      "cockroach\n",
      "iteration 5\n",
      "waiting...\n",
      "mongo\n",
      "redis\n",
      "neo4j\n",
      "orientdb\n",
      "cassandra\n",
      "postgres\n",
      "mysql\n",
      "memsql\n",
      "voltdb\n",
      "cockroach\n",
      "iteration 6\n",
      "waiting...\n",
      "mongo\n",
      "redis\n",
      "neo4j\n",
      "orientdb\n",
      "cassandra\n",
      "postgres\n",
      "mysql\n",
      "memsql\n",
      "voltdb\n",
      "cockroach\n",
      "iteration 7\n",
      "waiting...\n",
      "mongo\n",
      "redis\n",
      "neo4j\n",
      "orientdb\n",
      "cassandra\n",
      "postgres\n",
      "mysql\n",
      "memsql\n",
      "voltdb\n",
      "cockroach\n",
      "iteration 8\n",
      "waiting...\n",
      "mongo\n",
      "redis\n",
      "neo4j\n",
      "orientdb\n",
      "cassandra\n",
      "postgres\n",
      "mysql\n",
      "memsql\n",
      "voltdb\n",
      "cockroach\n",
      "iteration 9\n",
      "waiting...\n",
      "mongo\n",
      "redis\n",
      "neo4j\n",
      "orientdb\n",
      "cassandra\n",
      "postgres\n",
      "mysql\n",
      "memsql\n",
      "voltdb\n",
      "cockroach\n",
      "iteration 10\n",
      "waiting...\n",
      "mongo\n",
      "redis\n",
      "neo4j\n",
      "orientdb\n",
      "cassandra\n",
      "postgres\n",
      "mysql\n",
      "memsql\n",
      "voltdb\n",
      "cockroach\n",
      "mongo: 1.3779650449752807\n",
      "redis: 0.2029155969619751\n",
      "neo4j: 6.259813523292541\n",
      "orientdb: 18.990342760086058\n",
      "cassandra: 4.345867133140564\n",
      "postgres: 4.852600312232971\n",
      "mysql: 1.5185468912124633\n",
      "memsql: 3.768800735473633\n",
      "voltdb: 5.780721855163574\n",
      "cockroach: 1.5266023635864259\n"
     ]
    }
   ],
   "source": [
    "(import_times_avg, import_times_peak) = average_time(data_import_commands, containers, num_of_runs)"
   ]
  },
  {
   "cell_type": "markdown",
   "metadata": {},
   "source": [
    "### Results"
   ]
  },
  {
   "cell_type": "code",
   "execution_count": 12,
   "metadata": {
    "collapsed": false,
    "scrolled": false
   },
   "outputs": [
    {
     "data": {
      "image/png": "[encoded data removed]",
      "text/plain": [
       "<matplotlib.figure.Figure at 0x1d171d31f28>"
      ]
     },
     "metadata": {},
     "output_type": "display_data"
    }
   ],
   "source": [
    "bar_plot(import_times_avg, containers, colours, \"Average bulk import time\")"
   ]
  },
  {
   "cell_type": "markdown",
   "metadata": {},
   "source": [
    "## Query execution time and throughput"
   ]
  },
  {
   "cell_type": "markdown",
   "metadata": {},
   "source": [
    "### Helper functions, modified from the previous ones\n",
    "And also dependant from them."
   ]
  },
  {
   "cell_type": "code",
   "execution_count": 13,
   "metadata": {
    "collapsed": true
   },
   "outputs": [],
   "source": [
    "def exec_and_time2(container, command, verbose=True, save_mem=False, long_output=False):\n",
    "    start = time.time()\n",
    "    if container == \"cassandra\" or long_output:\n",
    "        _ = run_command2(command, verbose, save_mem)\n",
    "    else:\n",
    "        _ = run_command(command, verbose, save_mem)\n",
    "    end = time.time()\n",
    "    return end - start"
   ]
  },
  {
   "cell_type": "code",
   "execution_count": 14,
   "metadata": {
    "collapsed": true
   },
   "outputs": [],
   "source": [
    "def average_time2(commands, containers, iterations, verbose=True, import_data=False):\n",
    "    times = [0] * len(containers)\n",
    "    peak_times = [0] * len(containers)\n",
    "    for j in range(0, iterations):\n",
    "        if verbose:\n",
    "            print(\"iteration \" + str(j+1))\n",
    "        _ = run_command('D: && cd \"D:\\GitHub\\BigData\\Project2\\Docker\" && docker-compose up -d', verbose=False)\n",
    "        if verbose:\n",
    "            print(\"waiting...\")\n",
    "        time.sleep(25) \n",
    "        for i in range(0, len(containers)):\n",
    "            if verbose:\n",
    "                print(containers[i])\n",
    "                \n",
    "            coackroach_ip = \"\"\n",
    "            \n",
    "            app1 = data_import_commands[i]\n",
    "            \n",
    "            if containers[i] == \"cockroach\":\n",
    "                ip = run_command('docker exec cockroach ip route', verbose=False)\n",
    "                ip = ip[len(ip)-2].split(\" \")\n",
    "                ip = ip[len(ip)-2]\n",
    "                cockroach_ip = ip\n",
    "                #print(cockroach_ip)\n",
    "                data_import_commands[i][1] = data_import_commands[i][1].replace(\"{{cockroach_ip}}\", cockroach_ip)\n",
    "                #print(data_import_commands[i])\n",
    "            if import_data:\n",
    "                if containers[i] == \"redis\":\n",
    "                    exec_and_time2(\"redis\", r\"\"\"docker exec --privileged redis sh -c \"cat /shared_data/mock_data_10000_set.csv | redis-cli --pipe\" \"\"\", verbose=False, save_mem=True)\n",
    "                else: \n",
    "                    exec_and_time(containers[i], data_import_commands[i], verbose=False, save_mem=True)\n",
    "            if containers[i] == \"neo4j\":\n",
    "                exec_and_time2(\"neo4j\", r\"\"\"docker exec --privileged neo4j sh -c \"echo \\\"MATCH (n:Customer) CREATE (n)-[r:Autoedge]->(n) RETURN r;\\\" | /var/lib/neo4j/bin/cypher-shell\" \"\"\", verbose=False, save_mem=True)\n",
    "            \n",
    "            data_import_commands[i] = app1\n",
    "            \n",
    "            time_taken = exec_and_time2(containers[i], commands[i].replace(\"{{id}}\", str(random.randrange(0, 9999, 1))), verbose=False, save_mem=True)\n",
    "            times[i] += time_taken\n",
    "            if peak_times[i] < time_taken:\n",
    "                peak_times[i] = time_taken\n",
    "        if j < iterations-1:\n",
    "            _ = run_command('D: && cd \"D:\\GitHub\\BigData\\Project2\\Docker\" && docker-compose down', verbose=False)\n",
    "    for i in range(0, len(containers)):\n",
    "        times[i] = times[i]/iterations\n",
    "        print(containers[i] + \": \" + str(times[i]))\n",
    "    return (times, peak_times)"
   ]
  },
  {
   "cell_type": "markdown",
   "metadata": {},
   "source": [
    "### Unindexed Search Commands\n",
    "Redis has no unindexed search."
   ]
  },
  {
   "cell_type": "code",
   "execution_count": 15,
   "metadata": {
    "collapsed": true
   },
   "outputs": [],
   "source": [
    "unindexed_read_commands = [\n",
    "    r\"\"\"docker exec --privileged mongo mongo testing_db --eval \"db.customers.find({first_name:'Hosea'}).pretty().shellPrint();\" \"\"\",\n",
    "    \"\",\n",
    "    r\"\"\"docker exec --privileged neo4j sh -c \"echo \\\"MATCH (n) WHERE n.firstName = 'Hosea' RETURN n;\\\" | /var/lib/neo4j/bin/cypher-shell\" \"\"\",\n",
    "    r\"\"\"docker exec --privileged orientdb /orientdb/bin/console.sh \"connect plocal:/temp/databases/mock admin admin; select from Customer where first_name = 'Hosea' \" \"\"\",\n",
    "    r\"\"\"docker exec --privileged cassandra cqlsh -k mock_keyspace -e \"select * from customers where first_name = 'Hosea' allow filtering;\" \"\"\",\n",
    "    r\"\"\"docker exec --privileged postgres sh -c \"echo \\\"SELECT * FROM customers WHERE first_name = 'Hosea'\\\" | psql -U postgres mock\" \"\"\", #postgres\n",
    "    r\"\"\"docker exec --privileged mysql mysql -u root --password=password --database mock -e \"SELECT * FROM customers where first_name = 'Hosea'\" \"\"\",\n",
    "    r\"\"\"docker exec --privileged memsql memsql-shell --database mock -e \"SELECT * FROM customers where first_name = 'Hosea'\" \"\"\",\n",
    "    r\"\"\"docker exec --privileged voltdb sh -c \"echo \\\"select * from customers where first_name = 'Hosea';\\\" | sqlcmd\"  \"\"\",\n",
    "    r\"\"\"docker exec --privileged cockroach ./cockroach sql --insecure --execute=\"SET DATABASE = mock; SELECT * FROM customers WHERE first_name = 'Hosea';\" \"\"\" \n",
    "]"
   ]
  },
  {
   "cell_type": "markdown",
   "metadata": {},
   "source": [
    "#### Iterating"
   ]
  },
  {
   "cell_type": "code",
   "execution_count": 16,
   "metadata": {
    "collapsed": false,
    "scrolled": true
   },
   "outputs": [
    {
     "name": "stdout",
     "output_type": "stream",
     "text": [
      "iteration 1\n",
      "waiting...\n",
      "mongo\n",
      "redis\n",
      "neo4j\n",
      "orientdb\n",
      "cassandra\n",
      "postgres\n",
      "mysql\n",
      "memsql\n",
      "voltdb\n",
      "cockroach\n",
      "iteration 2\n",
      "waiting...\n",
      "mongo\n",
      "redis\n",
      "neo4j\n",
      "orientdb\n",
      "cassandra\n",
      "postgres\n",
      "mysql\n",
      "memsql\n",
      "voltdb\n",
      "cockroach\n",
      "iteration 3\n",
      "waiting...\n",
      "mongo\n",
      "redis\n",
      "neo4j\n",
      "orientdb\n",
      "cassandra\n",
      "postgres\n",
      "mysql\n",
      "memsql\n",
      "voltdb\n",
      "cockroach\n",
      "iteration 4\n",
      "waiting...\n",
      "mongo\n",
      "redis\n",
      "neo4j\n",
      "orientdb\n",
      "cassandra\n",
      "postgres\n",
      "mysql\n",
      "memsql\n",
      "voltdb\n",
      "cockroach\n",
      "iteration 5\n",
      "waiting...\n",
      "mongo\n",
      "redis\n",
      "neo4j\n",
      "orientdb\n",
      "cassandra\n",
      "postgres\n",
      "mysql\n",
      "memsql\n",
      "voltdb\n",
      "cockroach\n",
      "iteration 6\n",
      "waiting...\n",
      "mongo\n",
      "redis\n",
      "neo4j\n",
      "orientdb\n",
      "cassandra\n",
      "postgres\n",
      "mysql\n",
      "memsql\n",
      "voltdb\n",
      "cockroach\n",
      "iteration 7\n",
      "waiting...\n",
      "mongo\n",
      "redis\n",
      "neo4j\n",
      "orientdb\n",
      "cassandra\n",
      "postgres\n",
      "mysql\n",
      "memsql\n",
      "voltdb\n",
      "cockroach\n",
      "iteration 8\n",
      "waiting...\n",
      "mongo\n",
      "redis\n",
      "neo4j\n",
      "orientdb\n",
      "cassandra\n",
      "postgres\n",
      "mysql\n",
      "memsql\n",
      "voltdb\n",
      "cockroach\n",
      "iteration 9\n",
      "waiting...\n",
      "mongo\n",
      "redis\n",
      "neo4j\n",
      "orientdb\n",
      "cassandra\n",
      "postgres\n",
      "mysql\n",
      "memsql\n",
      "voltdb\n",
      "cockroach\n",
      "iteration 10\n",
      "waiting...\n",
      "mongo\n",
      "redis\n",
      "neo4j\n",
      "orientdb\n",
      "cassandra\n",
      "postgres\n",
      "mysql\n",
      "memsql\n",
      "voltdb\n",
      "cockroach\n",
      "mongo: 0.7613518714904786\n",
      "redis: 0.006602716445922851\n",
      "neo4j: 1.3454859018325807\n",
      "orientdb: 3.392029571533203\n",
      "cassandra: 1.0725558996200562\n",
      "postgres: 0.2971117734909058\n",
      "mysql: 0.24711825847625732\n",
      "memsql: 4.068214631080627\n",
      "voltdb: 3.096517038345337\n",
      "cockroach: 0.40518109798431395\n"
     ]
    }
   ],
   "source": [
    "(unindexed_read_times_avg, unindexed_read_times_peak) = average_time2(unindexed_read_commands, containers, num_of_runs)\n",
    "unindexed_read_times_avg[1] = 0; # redis has no unindexed search"
   ]
  },
  {
   "cell_type": "markdown",
   "metadata": {},
   "source": [
    "### Results"
   ]
  },
  {
   "cell_type": "code",
   "execution_count": 17,
   "metadata": {
    "collapsed": false,
    "scrolled": false
   },
   "outputs": [
    {
     "data": {
      "image/png": "[encoded data removed]",
      "text/plain": [
       "<matplotlib.figure.Figure at 0x1d1716750f0>"
      ]
     },
     "metadata": {},
     "output_type": "display_data"
    }
   ],
   "source": [
    "bar_plot(unindexed_read_times_avg, containers, colours, \"Average search time\")"
   ]
  },
  {
   "cell_type": "markdown",
   "metadata": {
    "collapsed": true
   },
   "source": [
    "### Indexed Search Commands"
   ]
  },
  {
   "cell_type": "code",
   "execution_count": 18,
   "metadata": {
    "collapsed": true
   },
   "outputs": [],
   "source": [
    "indexed_read_commands = [\n",
    "    r\"\"\"docker exec --privileged mongo mongo testing_db --eval \"db.customers.find({Id:{{id}}}).pretty().shellPrint()\" \"\"\",\n",
    "    r\"\"\"docker exec --privileged redis sh -c \"echo GET {{id}}} | redis-cli\" \"\"\",\n",
    "    r\"\"\"docker exec --privileged neo4j sh -c \"echo \\\"MATCH (n) WHERE ID(n) = {{id}}} RETURN n;\\\" | /var/lib/neo4j/bin/cypher-shell\" \"\"\",\n",
    "    r\"\"\"docker exec --privileged orientdb /orientdb/bin/console.sh \"connect plocal:/temp/databases/mock admin admin; select from Customer where Id = {{id}}}\" \"\"\",\n",
    "    r\"\"\"docker exec --privileged cassandra cqlsh -k mock_keyspace -e \"select * from customers where id = {{id}}} allow filtering;\" \"\"\",\n",
    "    r\"\"\"docker exec --privileged postgres sh -c \"echo \\\"SELECT * FROM customers where id = {{id}}}\\\" | psql -U postgres mock\" \"\"\", #postgres\n",
    "    r\"\"\"docker exec --privileged mysql mysql -u root --password=password --database mock -e \"SELECT * FROM customers where id = {{id}}}\" \"\"\",\n",
    "    r\"\"\"docker exec --privileged memsql memsql-shell --database mock -e \"SELECT * FROM customers where id = {{id}}}\" \"\"\",\n",
    "    r\"\"\"docker exec --privileged voltdb sh -c \"echo \\\"SELECT * FROM customers where id = {{id}}}\\\" | sqlcmd\"  \"\"\",\n",
    "    r\"\"\"docker exec --privileged cockroach ./cockroach sql --insecure --execute=\"SET DATABASE = mock; SELECT * FROM customers where id = {{id}}};\" \"\"\" \n",
    "]"
   ]
  },
  {
   "cell_type": "markdown",
   "metadata": {},
   "source": [
    "#### Iterating"
   ]
  },
  {
   "cell_type": "code",
   "execution_count": 19,
   "metadata": {
    "collapsed": false,
    "scrolled": true
   },
   "outputs": [
    {
     "name": "stdout",
     "output_type": "stream",
     "text": [
      "iteration 1\n",
      "waiting...\n",
      "mongo\n",
      "redis\n",
      "neo4j\n",
      "orientdb\n",
      "cassandra\n",
      "postgres\n",
      "mysql\n",
      "memsql\n",
      "voltdb\n",
      "cockroach\n",
      "iteration 2\n",
      "waiting...\n",
      "mongo\n",
      "redis\n",
      "neo4j\n",
      "orientdb\n",
      "cassandra\n",
      "postgres\n",
      "mysql\n",
      "memsql\n",
      "voltdb\n",
      "cockroach\n",
      "iteration 3\n",
      "waiting...\n",
      "mongo\n",
      "redis\n",
      "neo4j\n",
      "orientdb\n",
      "cassandra\n",
      "postgres\n",
      "mysql\n",
      "memsql\n",
      "voltdb\n",
      "cockroach\n",
      "iteration 4\n",
      "waiting...\n",
      "mongo\n",
      "redis\n",
      "neo4j\n",
      "orientdb\n",
      "cassandra\n",
      "postgres\n",
      "mysql\n",
      "memsql\n",
      "voltdb\n",
      "cockroach\n",
      "iteration 5\n",
      "waiting...\n",
      "mongo\n",
      "redis\n",
      "neo4j\n",
      "orientdb\n",
      "cassandra\n",
      "postgres\n",
      "mysql\n",
      "memsql\n",
      "voltdb\n",
      "cockroach\n",
      "iteration 6\n",
      "waiting...\n",
      "mongo\n",
      "redis\n",
      "neo4j\n",
      "orientdb\n",
      "cassandra\n",
      "postgres\n",
      "mysql\n",
      "memsql\n",
      "voltdb\n",
      "cockroach\n",
      "iteration 7\n",
      "waiting...\n",
      "mongo\n",
      "redis\n",
      "neo4j\n",
      "orientdb\n",
      "cassandra\n",
      "postgres\n",
      "mysql\n",
      "memsql\n",
      "voltdb\n",
      "cockroach\n",
      "iteration 8\n",
      "waiting...\n",
      "mongo\n",
      "redis\n",
      "neo4j\n",
      "orientdb\n",
      "cassandra\n",
      "postgres\n",
      "mysql\n",
      "memsql\n",
      "voltdb\n",
      "cockroach\n",
      "iteration 9\n",
      "waiting...\n",
      "mongo\n",
      "redis\n",
      "neo4j\n",
      "orientdb\n",
      "cassandra\n",
      "postgres\n",
      "mysql\n",
      "memsql\n",
      "voltdb\n",
      "cockroach\n",
      "iteration 10\n",
      "waiting...\n",
      "mongo\n",
      "redis\n",
      "neo4j\n",
      "orientdb\n",
      "cassandra\n",
      "postgres\n",
      "mysql\n",
      "memsql\n",
      "voltdb\n",
      "cockroach\n",
      "mongo: 0.752523136138916\n",
      "redis: 0.1922227621078491\n",
      "neo4j: 1.271317219734192\n",
      "orientdb: 2.6494291543960573\n",
      "cassandra: 1.2643517971038818\n",
      "postgres: 0.3526382684707642\n",
      "mysql: 0.29781160354614256\n",
      "memsql: 3.249052143096924\n",
      "voltdb: 2.3724739074707033\n",
      "cockroach: 0.39572198390960694\n"
     ]
    }
   ],
   "source": [
    "(indexed_read_times_avg, indexed_read_times_peak) = average_time2(indexed_read_commands, containers, num_of_runs)"
   ]
  },
  {
   "cell_type": "markdown",
   "metadata": {},
   "source": [
    "### Results"
   ]
  },
  {
   "cell_type": "code",
   "execution_count": 20,
   "metadata": {
    "collapsed": false
   },
   "outputs": [
    {
     "data": {
      "image/png": "[encoded data removed]",
      "text/plain": [
       "<matplotlib.figure.Figure at 0x1d1714e9550>"
      ]
     },
     "metadata": {},
     "output_type": "display_data"
    }
   ],
   "source": [
    "bar_plot(indexed_read_times_avg, containers, colours, \"Average indexed search time\")"
   ]
  },
  {
   "cell_type": "markdown",
   "metadata": {},
   "source": [
    "### Aggregate Functions Commands"
   ]
  },
  {
   "cell_type": "code",
   "execution_count": 21,
   "metadata": {
    "collapsed": true
   },
   "outputs": [],
   "source": [
    "aggregate_read_commands = [\n",
    "    r\"\"\"docker exec --privileged mongo mongo testing_db --eval 'db.customers.aggregate(    [      { $group: { \"_id\": \"$first_name\", \"avg\": { $avg: \"$income\" } } }    ] ).pretty().shellPrint();' \"\"\",\n",
    "    r\"\"\"docker exec --privileged redis sh -c \"echo zcount mylist -inf +inf | redis-cli\" \"\"\",\n",
    "    r\"\"\"docker exec --privileged neo4j sh -c \"echo \\\"match (n:Customer) return avg(n.income);\\\" | /var/lib/neo4j/bin/cypher-shell\" \"\"\",\n",
    "    r\"\"\"docker exec --privileged orientdb /orientdb/bin/console.sh \"connect plocal:/temp/databases/mock admin admin; select avg(income) FROM Customer\" \"\"\",\n",
    "    r\"\"\"docker exec --privileged cassandra cqlsh -k mock_keyspace -e \"select avg(income) as avg_income from customers;\" \"\"\",\n",
    "    r\"\"\"docker exec --privileged postgres sh -c \"echo \\\"select avg(income) as avg_income from customers\\\" | psql -U postgres mock\" \"\"\", #postgres\n",
    "    r\"\"\"docker exec --privileged mysql mysql -u root --password=password --database mock -e \"select avg(income) as avg_income from customers\" \"\"\",\n",
    "    r\"\"\"docker exec --privileged memsql memsql-shell --database mock -e \"select avg(income) as avg_income from customers\" \"\"\",\n",
    "    r\"\"\"docker exec --privileged voltdb sh -c \"echo \\\"select avg(income) as avg_income from customers\\\" | sqlcmd\"  \"\"\",\n",
    "    r\"\"\"docker exec --privileged cockroach ./cockroach sql --insecure --execute=\"SET DATABASE = mock; select avg(income) as avg_income from customers;\" \"\"\" \n",
    "]"
   ]
  },
  {
   "cell_type": "markdown",
   "metadata": {},
   "source": [
    "#### Iterating"
   ]
  },
  {
   "cell_type": "code",
   "execution_count": 22,
   "metadata": {
    "collapsed": false,
    "scrolled": true
   },
   "outputs": [
    {
     "name": "stdout",
     "output_type": "stream",
     "text": [
      "iteration 1\n",
      "waiting...\n",
      "mongo\n",
      "redis\n",
      "neo4j\n",
      "orientdb\n",
      "cassandra\n",
      "postgres\n",
      "mysql\n",
      "memsql\n",
      "voltdb\n",
      "cockroach\n",
      "iteration 2\n",
      "waiting...\n",
      "mongo\n",
      "redis\n",
      "neo4j\n",
      "orientdb\n",
      "cassandra\n",
      "postgres\n",
      "mysql\n",
      "memsql\n",
      "voltdb\n",
      "cockroach\n",
      "iteration 3\n",
      "waiting...\n",
      "mongo\n",
      "redis\n",
      "neo4j\n",
      "orientdb\n",
      "cassandra\n",
      "postgres\n",
      "mysql\n",
      "memsql\n",
      "voltdb\n",
      "cockroach\n",
      "iteration 4\n",
      "waiting...\n",
      "mongo\n",
      "redis\n",
      "neo4j\n",
      "orientdb\n",
      "cassandra\n",
      "postgres\n",
      "mysql\n",
      "memsql\n",
      "voltdb\n",
      "cockroach\n",
      "iteration 5\n",
      "waiting...\n",
      "mongo\n",
      "redis\n",
      "neo4j\n",
      "orientdb\n",
      "cassandra\n",
      "postgres\n",
      "mysql\n",
      "memsql\n",
      "voltdb\n",
      "cockroach\n",
      "iteration 6\n",
      "waiting...\n",
      "mongo\n",
      "redis\n",
      "neo4j\n",
      "orientdb\n",
      "cassandra\n",
      "postgres\n",
      "mysql\n",
      "memsql\n",
      "voltdb\n",
      "cockroach\n",
      "iteration 7\n",
      "waiting...\n",
      "mongo\n",
      "redis\n",
      "neo4j\n",
      "orientdb\n",
      "cassandra\n",
      "postgres\n",
      "mysql\n",
      "memsql\n",
      "voltdb\n",
      "cockroach\n",
      "iteration 8\n",
      "waiting...\n",
      "mongo\n",
      "redis\n",
      "neo4j\n",
      "orientdb\n",
      "cassandra\n",
      "postgres\n",
      "mysql\n",
      "memsql\n",
      "voltdb\n",
      "cockroach\n",
      "iteration 9\n",
      "waiting...\n",
      "mongo\n",
      "redis\n",
      "neo4j\n",
      "orientdb\n",
      "cassandra\n",
      "postgres\n",
      "mysql\n",
      "memsql\n",
      "voltdb\n",
      "cockroach\n",
      "iteration 10\n",
      "waiting...\n",
      "mongo\n",
      "redis\n",
      "neo4j\n",
      "orientdb\n",
      "cassandra\n",
      "postgres\n",
      "mysql\n",
      "memsql\n",
      "voltdb\n",
      "cockroach\n",
      "mongo: 0.9295998573303222\n",
      "redis: 0.2599918842315674\n",
      "neo4j: 1.2807871341705321\n",
      "orientdb: 2.7451351165771483\n",
      "cassandra: 1.0557847023010254\n",
      "postgres: 0.459069561958313\n",
      "mysql: 0.2607097864151001\n",
      "memsql: 3.2221822500228883\n",
      "voltdb: 2.556734490394592\n",
      "cockroach: 0.4968269348144531\n"
     ]
    }
   ],
   "source": [
    "(aggregate_read_times_avg, aggregate_read_times_peak) = average_time2(aggregate_read_commands, containers, num_of_runs)"
   ]
  },
  {
   "cell_type": "markdown",
   "metadata": {},
   "source": [
    "### Results"
   ]
  },
  {
   "cell_type": "code",
   "execution_count": 23,
   "metadata": {
    "collapsed": false
   },
   "outputs": [
    {
     "data": {
      "image/png": "[encoded data removed]",
      "text/plain": [
       "<matplotlib.figure.Figure at 0x1d1714d4b00>"
      ]
     },
     "metadata": {},
     "output_type": "display_data"
    }
   ],
   "source": [
    "bar_plot(aggregate_read_times_avg, containers, colours, \"Average aggregation time\")"
   ]
  },
  {
   "cell_type": "markdown",
   "metadata": {},
   "source": [
    "### Join Commands\n",
    "MongoDB, Redis, OrientDB, Cassandra do not allow join operations."
   ]
  },
  {
   "cell_type": "code",
   "execution_count": 24,
   "metadata": {
    "collapsed": true
   },
   "outputs": [],
   "source": [
    "join_commands = [\n",
    "    \"\",\n",
    "    \"\",\n",
    "    r\"\"\"docker exec --privileged neo4j sh -c \"echo \\\"MATCH (n:Customer)-[:Autoedge]->(m:Customer) WHERE n.firstName = m.firstName RETURN n, m;\\\" | /var/lib/neo4j/bin/cypher-shell\" \"\"\",\n",
    "    \"\",\n",
    "    \"\",\n",
    "    r\"\"\"docker exec --privileged postgres sh -c \"psql -q -U postgres mock -c 'select * from customers a, customers b where a.first_name = b.first_name;' > join.txt\" \"\"\",\n",
    "    r\"\"\"docker exec --privileged mysql sh -c \"mysql -u root --password=password --database mock -e 'select * from customers a, customers b where a.first_name = b.first_name;' > join.txt \" \"\"\",\n",
    "    r\"\"\"docker exec --privileged memsql sh -c \"memsql-shell --database mock -e 'select * from customers a, customers b where a.first_name = b.first_name;' > join.txt\" \"\"\",\n",
    "    r\"\"\"docker exec --privileged voltdb sh -c \"echo 'select * from customers a, customers b where a.first_name = b.first_name;' | sqlcmd > join.txt\"  \"\"\",\n",
    "    r\"\"\"docker exec --privileged cockroach sh -c \"./cockroach sql --insecure --execute='SET DATABASE = mock; select * from customers a, customers b where a.first_name = b.first_name;' > join.txt\" \"\"\" \n",
    "]"
   ]
  },
  {
   "cell_type": "markdown",
   "metadata": {},
   "source": [
    "#### Iterating"
   ]
  },
  {
   "cell_type": "code",
   "execution_count": 25,
   "metadata": {
    "collapsed": false,
    "scrolled": true
   },
   "outputs": [
    {
     "name": "stdout",
     "output_type": "stream",
     "text": [
      "iteration 1\n",
      "waiting...\n",
      "mongo\n",
      "redis\n",
      "neo4j\n",
      "orientdb\n",
      "cassandra\n",
      "postgres\n",
      "mysql\n",
      "memsql\n",
      "voltdb\n",
      "cockroach\n",
      "iteration 2\n",
      "waiting...\n",
      "mongo\n",
      "redis\n",
      "neo4j\n",
      "orientdb\n",
      "cassandra\n",
      "postgres\n",
      "mysql\n",
      "memsql\n",
      "voltdb\n",
      "cockroach\n",
      "iteration 3\n",
      "waiting...\n",
      "mongo\n",
      "redis\n",
      "neo4j\n",
      "orientdb\n",
      "cassandra\n",
      "postgres\n",
      "mysql\n",
      "memsql\n",
      "voltdb\n",
      "cockroach\n",
      "iteration 4\n",
      "waiting...\n",
      "mongo\n",
      "redis\n",
      "neo4j\n",
      "orientdb\n",
      "cassandra\n",
      "postgres\n",
      "mysql\n",
      "memsql\n",
      "voltdb\n",
      "cockroach\n",
      "iteration 5\n",
      "waiting...\n",
      "mongo\n",
      "redis\n",
      "neo4j\n",
      "orientdb\n",
      "cassandra\n",
      "postgres\n",
      "mysql\n",
      "memsql\n",
      "voltdb\n",
      "cockroach\n",
      "iteration 6\n",
      "waiting...\n",
      "mongo\n",
      "redis\n",
      "neo4j\n",
      "orientdb\n",
      "cassandra\n",
      "postgres\n",
      "mysql\n",
      "memsql\n",
      "voltdb\n",
      "cockroach\n",
      "iteration 7\n",
      "waiting...\n",
      "mongo\n",
      "redis\n",
      "neo4j\n",
      "orientdb\n",
      "cassandra\n",
      "postgres\n",
      "mysql\n",
      "memsql\n",
      "voltdb\n",
      "cockroach\n",
      "iteration 8\n",
      "waiting...\n",
      "mongo\n",
      "redis\n",
      "neo4j\n",
      "orientdb\n",
      "cassandra\n",
      "postgres\n",
      "mysql\n",
      "memsql\n",
      "voltdb\n",
      "cockroach\n",
      "iteration 9\n",
      "waiting...\n",
      "mongo\n",
      "redis\n",
      "neo4j\n",
      "orientdb\n",
      "cassandra\n",
      "postgres\n",
      "mysql\n",
      "memsql\n",
      "voltdb\n",
      "cockroach\n",
      "iteration 10\n",
      "waiting...\n",
      "mongo\n",
      "redis\n",
      "neo4j\n",
      "orientdb\n",
      "cassandra\n",
      "postgres\n",
      "mysql\n",
      "memsql\n",
      "voltdb\n",
      "cockroach\n",
      "mongo: 0.006198668479919433\n",
      "redis: 0.0060993671417236325\n",
      "neo4j: 0.9849414587020874\n",
      "orientdb: 0.00619959831237793\n",
      "cassandra: 0.006815910339355469\n",
      "postgres: 0.3296961307525635\n",
      "mysql: 0.2343583345413208\n",
      "memsql: 1.1511044263839723\n",
      "voltdb: 1.995752787590027\n",
      "cockroach: 0.4339426279067993\n"
     ]
    }
   ],
   "source": [
    "(join_times_avg, join_times_peak) = average_time2(join_commands, containers, num_of_runs)\n",
    "join_times_avg[0] = 0; # mongodb does not support relational join operation\n",
    "join_times_avg[1] = 0; # redis does not support relational join operation\n",
    "join_times_avg[3] = 0; # orientdb does not support relational join operation\n",
    "join_times_avg[4] = 0; # cassandra does not support relational join operation"
   ]
  },
  {
   "cell_type": "markdown",
   "metadata": {},
   "source": [
    "### Results"
   ]
  },
  {
   "cell_type": "code",
   "execution_count": 26,
   "metadata": {
    "collapsed": false
   },
   "outputs": [
    {
     "data": {
      "image/png": "[encoded data removed]",
      "text/plain": [
       "<matplotlib.figure.Figure at 0x1d1713dd5f8>"
      ]
     },
     "metadata": {},
     "output_type": "display_data"
    }
   ],
   "source": [
    "bar_plot(join_times_avg, containers, colours, \"Average join time\")"
   ]
  },
  {
   "cell_type": "markdown",
   "metadata": {},
   "source": [
    "## Throughput"
   ]
  },
  {
   "cell_type": "code",
   "execution_count": 27,
   "metadata": {
    "collapsed": true
   },
   "outputs": [],
   "source": [
    "def read_throughput(commands, containers, iterations=1000, verbose=True, import_data=False):\n",
    "    times = [0] * len(containers)\n",
    "    ratios = [0] * len(containers)\n",
    "    _ = run_command('D: && cd \"D:\\GitHub\\BigData\\Project2\\Docker\" && docker-compose up -d', verbose=False)\n",
    "    time.sleep(25) \n",
    "    for i in range(0, len(containers)):\n",
    "        #imports\n",
    "        if verbose:\n",
    "            print(containers[i])\n",
    "            \n",
    "        coackroach_ip = \"\"\n",
    "        \n",
    "        app1 = data_import_commands[i]\n",
    "        app2 = commands[i]\n",
    "        \n",
    "        if containers[i] == \"cockroach\":\n",
    "            ip = run_command('docker exec cockroach ip route', verbose=False)\n",
    "            ip = ip[len(ip)-2].split(\" \")\n",
    "            ip = ip[len(ip)-2]\n",
    "            cockroach_ip = ip\n",
    "            data_import_commands[i][1] = data_import_commands[i][1].replace(\"{{cockroach_ip}}\", cockroach_ip)\n",
    "        if import_data:\n",
    "            if containers[i] == \"redis\":\n",
    "                exec_and_time2(\"redis\", r\"\"\"docker exec --privileged redis sh -c \"cat /shared_data/mock_data_10000_set.csv | redis-cli --pipe\" \"\"\", verbose=False, save_mem=True)\n",
    "            else: \n",
    "                exec_and_time(containers[i], data_import_commands[i], verbose=False, save_mem=True)\n",
    "        if containers[i] == \"neo4j\":\n",
    "            exec_and_time2(\"neo4j\", r\"\"\"docker exec --privileged neo4j sh -c \"echo \\\"MATCH (n:Customer) CREATE (n)-[r:Autoedge]->(n) RETURN r;\\\" | /var/lib/neo4j/bin/cypher-shell\" \"\"\", verbose=False, save_mem=True)\n",
    "        #queries\n",
    "        start = time.time()\n",
    "        for j in range(0, iterations):  \n",
    "            _ = exec_and_time2(containers[i], commands[i].replace(\"{{id}}\", str(random.randrange(0, 9999, 1))), verbose=False, save_mem=True)\n",
    "        \n",
    "        data_import_commands[i] = app1\n",
    "        commands[i] = app2\n",
    "        \n",
    "        end = time.time()\n",
    "        times[i] = end - start\n",
    "        ratios[i] = iterations/times[i]\n",
    "    _ = run_command('D: && cd \"D:\\GitHub\\BigData\\Project2\\Docker\" && docker-compose down', verbose=False)\n",
    "    for i in range(0, len(containers)):\n",
    "        print(containers[i] + \": \" + str(ratios[i]))\n",
    "    return ratios"
   ]
  },
  {
   "cell_type": "code",
   "execution_count": 28,
   "metadata": {
    "collapsed": false
   },
   "outputs": [
    {
     "name": "stdout",
     "output_type": "stream",
     "text": [
      "mongo\n",
      "redis\n",
      "neo4j\n",
      "orientdb\n",
      "cassandra\n",
      "postgres\n",
      "mysql\n",
      "memsql\n",
      "voltdb\n",
      "cockroach\n",
      "mongo: 30.883471280306168\n",
      "redis: 9.963676313929312\n",
      "neo4j: 1.4649809053195442\n",
      "orientdb: 1.0592776115941447\n",
      "cassandra: 30.48779406340856\n",
      "postgres: 30.193238558103086\n",
      "mysql: 30.88324842896359\n",
      "memsql: 30.413624316141867\n",
      "voltdb: 1.9990947054663746\n",
      "cockroach: 7.378539119959243\n"
     ]
    }
   ],
   "source": [
    "indexed_read_throughput = read_throughput(indexed_read_commands, containers, 50)"
   ]
  },
  {
   "cell_type": "markdown",
   "metadata": {},
   "source": [
    "### Results"
   ]
  },
  {
   "cell_type": "code",
   "execution_count": 29,
   "metadata": {
    "collapsed": false
   },
   "outputs": [
    {
     "data": {
      "image/png": "[encoded data removed]",
      "text/plain": [
       "<matplotlib.figure.Figure at 0x1d171cca438>"
      ]
     },
     "metadata": {},
     "output_type": "display_data"
    }
   ],
   "source": [
    "bar_plot(indexed_read_throughput, containers, colours, \"Indexed read throughput\")"
   ]
  },
  {
   "cell_type": "code",
   "execution_count": 30,
   "metadata": {
    "collapsed": false
   },
   "outputs": [
    {
     "data": {
      "image/png": "[encoded data removed]",
      "text/plain": [
       "<matplotlib.figure.Figure at 0x1d171843320>"
      ]
     },
     "metadata": {},
     "output_type": "display_data"
    }
   ],
   "source": [
    "write_throughput = [10000/x for x in import_times_avg]\n",
    "\n",
    "bar_plot(write_throughput, containers, colours, \"Write throughput\")"
   ]
  },
  {
   "cell_type": "markdown",
   "metadata": {},
   "source": [
    "# Clusters"
   ]
  },
  {
   "cell_type": "markdown",
   "metadata": {},
   "source": [
    "## Bulk insert time and Throughput"
   ]
  },
  {
   "cell_type": "code",
   "execution_count": 31,
   "metadata": {
    "collapsed": true
   },
   "outputs": [],
   "source": [
    "def cluster_times(commands, dbms, index,iterations=1000, verbose=True, import_data=False):\n",
    "    _ = run_command('D: && cd \"D:\\GitHub\\BigData\\Project2\\Docker\\cluster\\\\' + dbms + '\" && docker-compose up -d', verbose=True)\n",
    "    if dbms == \"mysql\":\n",
    "        _ = run_command(\"docker network connect bridge mysql\")\n",
    "    time.sleep(15) \n",
    "    #imports\n",
    "    if verbose:\n",
    "        print(dbms)\n",
    "\n",
    "    coackroach_ip = \"\"\n",
    "\n",
    "    app1 = data_import_commands[index]\n",
    "    app2 = commands[index]\n",
    "\n",
    "    if dbms == \"cockroach\":\n",
    "        ip = run_command('docker exec cockroach ip route', verbose=False)\n",
    "        ip = ip[len(ip)-2].split(\" \")\n",
    "        ip = ip[len(ip)-2]\n",
    "        cockroach_ip = ip\n",
    "        data_import_commands[index][1] = data_import_commands[index][1].replace(\"{{cockroach_ip}}\", cockroach_ip)\n",
    "\n",
    "    print(\"Importing data...\")\n",
    "    start_i = time.time()\n",
    "    exec_and_time(dbms, data_import_commands[index], verbose=False, save_mem=True)\n",
    "    import_time = time.time() - start_i\n",
    "    #queries\n",
    "    start = time.time()\n",
    "    for j in range(0, iterations):  \n",
    "        _ = exec_and_time2(containers[index], commands[index].replace(\"{{id}}\", str(random.randrange(0, 9999, 1))), verbose=False, save_mem=True)\n",
    "\n",
    "    data_import_commands[index] = app1\n",
    "    commands[index] = app2\n",
    "\n",
    "    end = time.time()\n",
    "    time_taken = end - start\n",
    "    ratio = iterations/time_taken\n",
    "    \n",
    "    _ = run_command('D: && cd \"D:\\GitHub\\BigData\\Project2\\Docker\\cluster\\\\' + dbms + '\" && docker-compose down', verbose=False)\n",
    "    \n",
    "    print(dbms + \": \" + str(ratio))\n",
    "    return (import_time, ratio)"
   ]
  },
  {
   "cell_type": "code",
   "execution_count": 50,
   "metadata": {
    "collapsed": true
   },
   "outputs": [],
   "source": [
    "cluster_import_times = [0]*4\n",
    "cluster_read_ratios = [0]*4"
   ]
  },
  {
   "cell_type": "markdown",
   "metadata": {},
   "source": [
    "### VoltDB"
   ]
  },
  {
   "cell_type": "code",
   "execution_count": 75,
   "metadata": {
    "collapsed": false
   },
   "outputs": [
    {
     "name": "stdout",
     "output_type": "stream",
     "text": [
      "Creating network \"voltdb_voltLocalCluster\" with driver \"bridge\"\n",
      "Creating voltdb\n",
      "Creating voltdb3\n",
      "Creating voltdb2\n",
      "Creating voltdb4\n",
      "\n",
      "voltdb\n",
      "Importing data...\n",
      "voltdb: 1.821068721661645\n"
     ]
    }
   ],
   "source": [
    "(cluster_import_times[0], cluster_read_ratios[0]) = cluster_times(indexed_read_commands, \"voltdb\", 8)"
   ]
  },
  {
   "cell_type": "markdown",
   "metadata": {},
   "source": [
    "### Cockroach"
   ]
  },
  {
   "cell_type": "code",
   "execution_count": 76,
   "metadata": {
    "collapsed": false
   },
   "outputs": [
    {
     "name": "stdout",
     "output_type": "stream",
     "text": [
      "Creating cockroach\n",
      "Creating roach3\n",
      "Creating roach4\n",
      "Creating roach2\n",
      "\n",
      "cockroach\n",
      "Importing data...\n",
      "cockroach: 7.551633295931992\n"
     ]
    }
   ],
   "source": [
    "(cluster_import_times[1], cluster_read_ratios[1]) = cluster_times(indexed_read_commands, \"cockroach\", 9)"
   ]
  },
  {
   "cell_type": "markdown",
   "metadata": {},
   "source": [
    "### Cassandra"
   ]
  },
  {
   "cell_type": "code",
   "execution_count": 77,
   "metadata": {
    "collapsed": false
   },
   "outputs": [
    {
     "name": "stdout",
     "output_type": "stream",
     "text": [
      "Creating cassandra\n",
      "Creating cassandra3\n",
      "Creating cassandra2\n",
      "Creating cassandra4\n",
      "\n",
      "cassandra\n",
      "Importing data...\n",
      "cassandra: 2.0460459761404914\n"
     ]
    }
   ],
   "source": [
    "(cluster_import_times[2], cluster_read_ratios[2]) = cluster_times(indexed_read_commands, \"cassandra\", 4)"
   ]
  },
  {
   "cell_type": "markdown",
   "metadata": {},
   "source": [
    "### MySql Cluster"
   ]
  },
  {
   "cell_type": "code",
   "execution_count": 72,
   "metadata": {
    "collapsed": false
   },
   "outputs": [
    {
     "name": "stdout",
     "output_type": "stream",
     "text": [
      "mysqlManagement1 is up-to-date\n",
      "mysqlndb1 is up-to-date\n",
      "mysqlndb2 is up-to-date\n",
      "mysql is up-to-date\n",
      "mysql_cluster is up-to-date\n",
      "\n",
      "Error response from daemon: service endpoint with name mysql already exists\n",
      "\n",
      "mysql\n",
      "Importing data...\n",
      "mysql: 9.579607448648723\n"
     ]
    }
   ],
   "source": [
    "(cluster_import_times[3], cluster_read_ratios[3]) = cluster_times(indexed_read_commands, \"mysql\", 6)"
   ]
  },
  {
   "cell_type": "markdown",
   "metadata": {},
   "source": [
    "## Results"
   ]
  },
  {
   "cell_type": "code",
   "execution_count": 78,
   "metadata": {
    "collapsed": false
   },
   "outputs": [
    {
     "data": {
      "image/png": "[encoded data removed]",
      "text/plain": [
       "<matplotlib.figure.Figure at 0x1d39176b940>"
      ]
     },
     "metadata": {},
     "output_type": "display_data"
    }
   ],
   "source": [
    "bar_plot(cluster_import_times, [\"voltdb\", \"cockroach\", \"cassandra\", \"mysql cluster\"], [colours[8], colours[9], colours[4], colours[6]], \"Average bulk import time (cluster)\")"
   ]
  },
  {
   "cell_type": "code",
   "execution_count": 79,
   "metadata": {
    "collapsed": false
   },
   "outputs": [
    {
     "data": {
      "image/png": "[encoded data removed]",
      "text/plain": [
       "<matplotlib.figure.Figure at 0x1d39176b2e8>"
      ]
     },
     "metadata": {},
     "output_type": "display_data"
    }
   ],
   "source": [
    "bar_plot(cluster_read_ratios, [\"voltdb\", \"cockroach\", \"cassandra\", \"mysql cluster\"], [colours[8], colours[9], colours[4], colours[6]], \"Average read throughput (cluster)\")"
   ]
  }
 ],
 "metadata": {
  "anaconda-cloud": {},
  "kernelspec": {
   "display_name": "Python [default]",
   "language": "python",
   "name": "python3"
  },
  "language_info": {
   "codemirror_mode": {
    "name": "ipython",
    "version": 3
   },
   "file_extension": ".py",
   "mimetype": "text/x-python",
   "name": "python",
   "nbconvert_exporter": "python",
   "pygments_lexer": "ipython3",
   "version": "3.5.2"
  }
 },
 "nbformat": 4,
 "nbformat_minor": 1
}
