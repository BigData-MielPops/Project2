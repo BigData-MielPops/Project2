{
 "cells": [
  {
   "cell_type": "markdown",
   "metadata": {},
   "source": [
    "# SQL vs NoSql vs NewSql"
   ]
  },
  {
   "cell_type": "markdown",
   "metadata": {},
   "source": [
    "This notebook is used to run code and generate graphs"
   ]
  },
  {
   "cell_type": "markdown",
   "metadata": {},
   "source": [
    "### Config"
   ]
  },
  {
   "cell_type": "code",
   "execution_count": 1,
   "metadata": {
    "collapsed": true
   },
   "outputs": [],
   "source": [
    "num_of_runs = 3"
   ]
  },
  {
   "cell_type": "markdown",
   "metadata": {},
   "source": [
    "### Imports"
   ]
  },
  {
   "cell_type": "code",
   "execution_count": 2,
   "metadata": {
    "collapsed": true
   },
   "outputs": [],
   "source": [
    "import subprocess\n",
    "import os\n",
    "import time\n",
    "import re\n",
    "import postgres_import as pos_i\n",
    "import mysql_import as my_i\n",
    "import memsql_import as mem_i\n",
    "import random"
   ]
  },
  {
   "cell_type": "markdown",
   "metadata": {},
   "source": [
    "### Helper function to generate a bar plot graph"
   ]
  },
  {
   "cell_type": "code",
   "execution_count": 3,
   "metadata": {
    "collapsed": true
   },
   "outputs": [],
   "source": [
    "import numpy as np\n",
    "from matplotlib import pyplot as plt\n",
    "\n",
    "def bar_plot(data, items, colours, title):\n",
    "    fig = plt.figure()\n",
    "    fig.set_size_inches(15, 7)\n",
    "\n",
    "    width = .45\n",
    "    ind = np.arange(len(data))\n",
    "    \n",
    "    plt.bar(0.3+ind, data, width=width, color=colours)\n",
    "    plt.xticks(0.3+ind, items)\n",
    "    plt.title(title)\n",
    "\n",
    "    fig.autofmt_xdate()\n",
    "\n",
    "    plt.show()"
   ]
  },
  {
   "cell_type": "markdown",
   "metadata": {},
   "source": [
    "### Helper function to run commands inside a shell"
   ]
  },
  {
   "cell_type": "code",
   "execution_count": 4,
   "metadata": {
    "collapsed": true
   },
   "outputs": [],
   "source": [
    "def run_command(command, verbose=True, save_mem=False):\n",
    "    process = subprocess.Popen(command, stdout=subprocess.PIPE, stderr=subprocess.STDOUT, shell=True)\n",
    "    returncode = process.wait()\n",
    "    output = \"\"\n",
    "    if not(save_mem):\n",
    "        output = process.stdout.read().decode('utf-8', 'replace').replace(\"\\r\", \"\").split(\"\\n\")\n",
    "        if verbose: \n",
    "            for line in output:\n",
    "                print (line)\n",
    "    return output\n",
    "\n",
    "def run_command2(command, verbose=True, save_mem=False):\n",
    "    process = subprocess.Popen(command, stdout=subprocess.PIPE, shell=True)\n",
    "    returncode = process.wait()\n",
    "    output = \"\"\n",
    "    if not(save_mem):\n",
    "        output = process.stdout.read().decode('utf-8', 'replace').replace(\"\\r\", \"\").split(\"\\n\")\n",
    "        if verbose: \n",
    "            for line in output:\n",
    "                print (line)\n",
    "    return output"
   ]
  },
  {
   "cell_type": "markdown",
   "metadata": {},
   "source": [
    "## Starting all the docker containers to check if it's all right"
   ]
  },
  {
   "cell_type": "code",
   "execution_count": 5,
   "metadata": {
    "collapsed": false
   },
   "outputs": [
    {
     "name": "stdout",
     "output_type": "stream",
     "text": [
      "mysql is up-to-date\n",
      "orientdb is up-to-date\n",
      "cassandra is up-to-date\n",
      "nuodb is up-to-date\n",
      "redis is up-to-date\n",
      "cockroach is up-to-date\n",
      "trafodion is up-to-date\n",
      "postgres is up-to-date\n",
      "neo4j is up-to-date\n",
      "mongo is up-to-date\n",
      "voltdb is up-to-date\n",
      "memsql is up-to-date\n",
      "\n"
     ]
    }
   ],
   "source": [
    "_ = run_command('D: && cd \"D:\\GitHub\\BigData\\Project2\\Docker\" && docker-compose up -d')"
   ]
  },
  {
   "cell_type": "markdown",
   "metadata": {},
   "source": [
    "## Stopping all the containers\n",
    "Test functions will start and stop the containers many times in order to accurately measure times."
   ]
  },
  {
   "cell_type": "code",
   "execution_count": 6,
   "metadata": {
    "collapsed": false
   },
   "outputs": [
    {
     "name": "stdout",
     "output_type": "stream",
     "text": [
      "Stopping voltdb ... \n",
      "Stopping memsql ... \n",
      "Stopping neo4j ... \n",
      "Stopping mongo ... \n",
      "Stopping trafodion ... \n",
      "Stopping cockroach ... \n",
      "Stopping cassandra ... \n",
      "Stopping postgres ... \n",
      "Stopping mysql ... \n",
      "Stopping redis ... \n",
      "Stopping orientdb ... \n",
      "Stopping nuodb ... \n",
      "\u001b[1A\u001b[2KStopping nuodb ... done\u001b[1B\u001b[5A\u001b[2KStopping postgres ... done\u001b[5B\u001b[9A\u001b[2KStopping mongo ... done\u001b[9B\u001b[12A\u001b[2KStopping voltdb ... done\u001b[12B\u001b[7A\u001b[2KStopping cockroach ... done\u001b[7B\u001b[10A\u001b[2KStopping neo4j ... done\u001b[10B\u001b[3A\u001b[2KStopping redis ... done\u001b[3B\u001b[4A\u001b[2KStopping mysql ... done\u001b[4B\u001b[2A\u001b[2KStopping orientdb ... done\u001b[2B\u001b[6A\u001b[2KStopping cassandra ... done\u001b[6B\u001b[8A\u001b[2KStopping trafodion ... done\u001b[8B\u001b[11A\u001b[2KStopping memsql ... done\u001b[11BRemoving voltdb ... \n",
      "Removing memsql ... \n",
      "Removing neo4j ... \n",
      "Removing mongo ... \n",
      "Removing trafodion ... \n",
      "Removing cockroach ... \n",
      "Removing cassandra ... \n",
      "Removing postgres ... \n",
      "Removing mysql ... \n",
      "Removing redis ... \n",
      "Removing orientdb ... \n",
      "Removing nuodb ... \n",
      "\u001b[9A\u001b[2KRemoving mongo ... done\u001b[9B\u001b[12A\u001b[2KRemoving voltdb ... done\u001b[12B\u001b[4A\u001b[2KRemoving mysql ... done\u001b[4B\u001b[2A\u001b[2KRemoving orientdb ... done\u001b[2B\u001b[11A\u001b[2KRemoving memsql ... done\u001b[11B\u001b[7A\u001b[2KRemoving cockroach ... done\u001b[7B\u001b[3A\u001b[2KRemoving redis ... done\u001b[3B\u001b[10A\u001b[2KRemoving neo4j ... done\u001b[10B\u001b[6A\u001b[2KRemoving cassandra ... done\u001b[6B\u001b[8A\u001b[2KRemoving trafodion ... done\u001b[8B\u001b[1A\u001b[2KRemoving nuodb ... done\u001b[1B\u001b[5A\u001b[2KRemoving postgres ... done\u001b[5BRemoving network docker_default\n",
      "\n"
     ]
    }
   ],
   "source": [
    "_ = run_command('D: && cd \"D:\\GitHub\\BigData\\Project2\\Docker\" && docker-compose down')"
   ]
  },
  {
   "cell_type": "markdown",
   "metadata": {},
   "source": [
    "## Definitions"
   ]
  },
  {
   "cell_type": "code",
   "execution_count": 7,
   "metadata": {
    "collapsed": true
   },
   "outputs": [],
   "source": [
    "postgres_container = \"postgres\"\n",
    "containers = [\"mongo\", \"redis\", \"neo4j\", \"orientdb\", \"cassandra\", postgres_container, \"mysql\", \"memsql\", \"voltdb\", \"cockroach\"]\n",
    "colours = [\"lightgreen\", \"red\", \"deepskyblue\", \"orange\", \"skyblue\", \"lightsteelblue\", \"steelblue\", \"cornflowerblue\", \"firebrick\", \"darkgreen\"]"
   ]
  },
  {
   "cell_type": "markdown",
   "metadata": {},
   "source": [
    "### Helper functions to run tests and measure the time taken"
   ]
  },
  {
   "cell_type": "code",
   "execution_count": 10,
   "metadata": {
    "collapsed": true
   },
   "outputs": [],
   "source": [
    "def exec_and_time(container, command, verbose=True, save_mem=False):\n",
    "    start = time.time()\n",
    "    if container == postgres_container or container == \"mysql\" or container == \"memsql\":\n",
    "        command[0](os.path.join(os.path.abspath('./Docker/shared_data'),command[1]))\n",
    "    elif container == \"cockroach\":\n",
    "        _ = run_command('docker exec --privileged ' + container + ' sh -c \"' + command[0] + '\"', verbose, save_mem)\n",
    "        _ = run_command('docker exec --privileged --user postgres '+ postgres_container +' sh -c \"' + command[1] + '\"', verbose, save_mem)\n",
    "    elif container == \"cassandra\":\n",
    "        _ = run_command2('docker exec --privileged ' + container + ' '+ command[0] +' -c \"' + command[1] + '\"', verbose, save_mem)\n",
    "    else: \n",
    "        _ = run_command('docker exec --privileged ' + container + ' sh -c \"' + command + '\"', verbose, save_mem)\n",
    "    end = time.time()\n",
    "    return end - start"
   ]
  },
  {
   "cell_type": "code",
   "execution_count": 42,
   "metadata": {
    "collapsed": false
   },
   "outputs": [],
   "source": [
    "def average_time(commands, containers, iterations, verbose=True, import_data=False):\n",
    "    times = [0] * len(containers)\n",
    "    peak_times = [0] * len(containers)\n",
    "    for j in range(0, iterations):\n",
    "        if verbose:\n",
    "            print(\"iteration \" + str(j+1))\n",
    "        _ = run_command('D: && cd \"D:\\GitHub\\BigData\\Project2\\Docker\" && docker-compose up -d', verbose=False)\n",
    "        if verbose:\n",
    "            print(\"waiting...\")\n",
    "        time.sleep(25) \n",
    "        for i in range(0, len(containers)):\n",
    "            if verbose:\n",
    "                print(containers[i])\n",
    "                \n",
    "            coackroach_ip = \"\"\n",
    "            \n",
    "            app1 = data_import_commands[i]\n",
    "            app2 = commands[i]\n",
    "            \n",
    "            if containers[i] == \"cockroach\":\n",
    "                ip = run_command('docker exec cockroach ip route', verbose=False)\n",
    "                ip = ip[len(ip)-2].split(\" \")\n",
    "                ip = ip[len(ip)-2]\n",
    "                cockroach_ip = ip\n",
    "                print(cockroach_ip)\n",
    "                app1 = data_import_commands[i]\n",
    "                app2 = commands[i]\n",
    "                data_import_commands[i][1] = data_import_commands[i][1].replace(\"{{cockroach_ip}}\", cockroach_ip)\n",
    "                commands[i][1].replace(\"{{coackroach_ip}}\", coackroach_ip)\n",
    "            if import_data:\n",
    "                exec_and_time(containers[i], data_import_commands[i], verbose=False, save_mem=True)\n",
    "                \n",
    "            data_import_commands[i] = app1\n",
    "            commands[i] = app2\n",
    "            \n",
    "            time_taken = exec_and_time(containers[i], commands[i], verbose=False, save_mem=True)\n",
    "            times[i] += time_taken\n",
    "            if peak_times[i] < time_taken:\n",
    "                peak_times[i] = time_taken\n",
    "        _ = run_command('D: && cd \"D:\\GitHub\\BigData\\Project2\\Docker\" && docker-compose down', verbose=False)\n",
    "    for i in range(0, len(containers)):\n",
    "        times[i] = times[i]/iterations\n",
    "        print(containers[i] + \": \" + str(times[i]))\n",
    "    return (times, peak_times)"
   ]
  },
  {
   "cell_type": "markdown",
   "metadata": {},
   "source": [
    "## Average bulk import time"
   ]
  },
  {
   "cell_type": "markdown",
   "metadata": {},
   "source": [
    "### Import commands"
   ]
  },
  {
   "cell_type": "code",
   "execution_count": 39,
   "metadata": {
    "collapsed": false
   },
   "outputs": [],
   "source": [
    "data_import_commands = [\n",
    "    \"mongoimport --db testing_db --collection customers --type csv --headerline --file /shared_data/mock_data_10000_rows.csv && mongo testing_db --eval 'db.customers.createIndex({Id:1});'\",\n",
    "    \"cat /shared_data/mock_data_10000_rows2.csv | redis-cli --pipe\",\n",
    "    \"cp /shared_data/mock_data_10000_neo.csv /var/lib/neo4j/import && cat /shared_scripts/import_mock_10000.cypher | /var/lib/neo4j/bin/cypher-shell\",\n",
    "    \"/orientdb/bin/oetl.sh /shared_scripts/import_orient_10000.json\",\n",
    "    [\"bash\", \"cqlsh -f /shared_scripts/import_mock_10000.cql\"],\n",
    "    [pos_i.sql_import, \"mock_data_10000_rows_utf8.csv\"], #postgres\n",
    "    [my_i.sql_import, \"mock_data_10000_rows_utf8.csv\"], #mysql\n",
    "    [mem_i.sql_import, \"mock_data_10000_rows_utf8.csv\"], #memsql\n",
    "    \"cat /shared_scripts/import_voltdb.sql | sqlcmd && /opt/voltdb/bin/csvloader customers -f /shared_data/mock_data_10000_rows.csv\",\n",
    "    [\"./cockroach sql --insecure --execute='create database if not exists mock;'\", \"psql -p 26257 -h {{cockroach_ip}} -d mock -U root < /shared_data/postgres_dump.sql\"]\n",
    "]"
   ]
  },
  {
   "cell_type": "markdown",
   "metadata": {},
   "source": [
    "#### Iterating"
   ]
  },
  {
   "cell_type": "code",
   "execution_count": 40,
   "metadata": {
    "collapsed": false
   },
   "outputs": [
    {
     "name": "stdout",
     "output_type": "stream",
     "text": [
      "iteration 1\n",
      "waiting...\n",
      "mongo\n",
      "redis\n",
      "neo4j\n",
      "orientdb\n",
      "cassandra\n",
      "postgres\n",
      "mysql\n",
      "memsql\n",
      "voltdb\n",
      "cockroach\n",
      "172.18.0.2\n",
      "mongo: 1.6690561771392822\n",
      "redis: 0.2510030269622803\n",
      "neo4j: 5.477948427200317\n",
      "orientdb: 14.5785653591156\n",
      "cassandra: 4.415853023529053\n",
      "postgres: 4.567066192626953\n",
      "mysql: 1.3113808631896973\n",
      "memsql: 3.6654417514801025\n",
      "voltdb: 6.135500192642212\n",
      "cockroach: 2.1788086891174316\n"
     ]
    }
   ],
   "source": [
    "(import_times_avg, import_times_peak) = average_time(data_import_commands, containers, num_of_runs)"
   ]
  },
  {
   "cell_type": "markdown",
   "metadata": {},
   "source": [
    "### Results"
   ]
  },
  {
   "cell_type": "code",
   "execution_count": 41,
   "metadata": {
    "collapsed": false,
    "scrolled": false
   },
   "outputs": [
    {
     "data": {
      "image/png": "[encoded data removed]",
      "text/plain": [
       "<matplotlib.figure.Figure at 0x277c72c0e80>"
      ]
     },
     "metadata": {},
     "output_type": "display_data"
    }
   ],
   "source": [
    "bar_plot(import_times_avg, containers, colours, \"Average bulk import time\")"
   ]
  },
  {
   "cell_type": "markdown",
   "metadata": {},
   "source": [
    "## Query execution time and throughput"
   ]
  },
  {
   "cell_type": "markdown",
   "metadata": {},
   "source": [
    "### Helper functions, modified from the previous ones\n",
    "And also dependant from them."
   ]
  },
  {
   "cell_type": "code",
   "execution_count": 15,
   "metadata": {
    "collapsed": true
   },
   "outputs": [],
   "source": [
    "def exec_and_time2(container, command, verbose=True, save_mem=False, long_output=False):\n",
    "    start = time.time()\n",
    "    if container == \"cassandra\" or long_output:\n",
    "        _ = run_command2(command, verbose, save_mem)\n",
    "    else:\n",
    "        _ = run_command(command, verbose, save_mem)\n",
    "    end = time.time()\n",
    "    return end - start"
   ]
  },
  {
   "cell_type": "code",
   "execution_count": 46,
   "metadata": {
    "collapsed": true
   },
   "outputs": [],
   "source": [
    "def average_time2(commands, containers, iterations, verbose=True, import_data=True):\n",
    "    times = [0] * len(containers)\n",
    "    peak_times = [0] * len(containers)\n",
    "    for j in range(0, iterations):\n",
    "        if verbose:\n",
    "            print(\"iteration \" + str(j+1))\n",
    "        _ = run_command('D: && cd \"D:\\GitHub\\BigData\\Project2\\Docker\" && docker-compose up -d', verbose=False)\n",
    "        if verbose:\n",
    "            print(\"waiting...\")\n",
    "        time.sleep(25) \n",
    "        for i in range(0, len(containers)):\n",
    "            if verbose:\n",
    "                print(containers[i])\n",
    "                \n",
    "            coackroach_ip = \"\"\n",
    "            \n",
    "            app1 = data_import_commands[i]\n",
    "            app2 = commands[i]\n",
    "            \n",
    "            if containers[i] == \"cockroach\":\n",
    "                ip = run_command('docker exec cockroach ip route', verbose=False)\n",
    "                ip = ip[len(ip)-2].split(\" \")\n",
    "                ip = ip[len(ip)-2]\n",
    "                cockroach_ip = ip\n",
    "                data_import_commands[i][1] = data_import_commands[i][1].replace(\"{{cockroach_ip}}\", cockroach_ip)\n",
    "                print(data_import_commands[i])\n",
    "            if import_data:\n",
    "                if containers[i] == \"redis\":\n",
    "                    exec_and_time2(\"redis\", r\"\"\"docker exec --privileged redis sh -c \"cat /shared_data/mock_data_10000_set.csv | redis-cli --pipe\" \"\"\", verbose=False, save_mem=True)\n",
    "                else: \n",
    "                    exec_and_time(containers[i], data_import_commands[i], verbose=False, save_mem=True)\n",
    "            if containers[i] == \"neo4j\":\n",
    "                exec_and_time2(\"neo4j\", r\"\"\"docker exec --privileged neo4j sh -c \"echo \\\"MATCH (n:Customer) CREATE (n)-[r:Autoedge]->(n) RETURN r;\\\" | /var/lib/neo4j/bin/cypher-shell\" \"\"\", verbose=False, save_mem=True)\n",
    "            \n",
    "            data_import_commands[i] = app1\n",
    "            commands[i] = app2\n",
    "            \n",
    "            time_taken = exec_and_time2(containers[i], commands[i].replace(\"{{id}}\", str(random.randrange(0, 9999, 1))), verbose=False, save_mem=True)\n",
    "            times[i] += time_taken\n",
    "            if peak_times[i] < time_taken:\n",
    "                peak_times[i] = time_taken\n",
    "        #_ = run_command('D: && cd \"D:\\GitHub\\BigData\\Project2\\Docker\" && docker-compose down', verbose=False)\n",
    "    for i in range(0, len(containers)):\n",
    "        times[i] = times[i]/iterations\n",
    "        print(containers[i] + \": \" + str(times[i]))\n",
    "    return (times, peak_times)"
   ]
  },
  {
   "cell_type": "markdown",
   "metadata": {},
   "source": [
    "### Unindexed Search Commands\n",
    "Redis has no unindexed search."
   ]
  },
  {
   "cell_type": "code",
   "execution_count": 47,
   "metadata": {
    "collapsed": true
   },
   "outputs": [],
   "source": [
    "unindexed_read_commands = [\n",
    "    r\"\"\"docker exec --privileged mongo mongo testing_db --eval \"db.customers.find({first_name:'Hosea'}).pretty().shellPrint();\" \"\"\",\n",
    "    \"\",\n",
    "    r\"\"\"docker exec --privileged neo4j sh -c \"echo \\\"MATCH (n) WHERE n.firstName = 'Hosea' RETURN n;\\\" | /var/lib/neo4j/bin/cypher-shell\" \"\"\",\n",
    "    r\"\"\"docker exec --privileged orientdb /orientdb/bin/console.sh \"connect plocal:/temp/databases/mock admin admin; select from Customer where first_name = 'Hosea' \" \"\"\",\n",
    "    r\"\"\"docker exec --privileged cassandra cqlsh -k mock_keyspace -e \"select * from customers where first_name = 'Hosea' allow filtering;\" \"\"\",\n",
    "    r\"\"\"docker exec --privileged postgres sh -c \"echo \\\"SELECT * FROM customers WHERE first_name = 'Hosea'\\\" | psql -U postgres mock\" \"\"\", #postgres\n",
    "    r\"\"\"docker exec --privileged mysql mysql -u root --password=password --database mock -e \"SELECT * FROM customers where first_name = 'Hosea'\" \"\"\",\n",
    "    r\"\"\"docker exec --privileged memsql memsql-shell --database mock -e \"SELECT * FROM customers where first_name = 'Hosea'\" \"\"\",\n",
    "    r\"\"\"docker exec --privileged voltdb sh -c \"echo \\\"select * from customers where first_name = 'Hosea';\\\" | sqlcmd\"  \"\"\",\n",
    "    r\"\"\"docker exec --privileged cockroach ./cockroach sql --insecure --execute=\"SET DATABASE = mock; SELECT * FROM customers WHERE first_name = 'Hosea';\" \"\"\" \n",
    "]"
   ]
  },
  {
   "cell_type": "markdown",
   "metadata": {},
   "source": [
    "#### Iterating"
   ]
  },
  {
   "cell_type": "code",
   "execution_count": 48,
   "metadata": {
    "collapsed": false
   },
   "outputs": [
    {
     "name": "stdout",
     "output_type": "stream",
     "text": [
      "iteration 1\n",
      "waiting...\n",
      "mongo\n",
      "redis\n",
      "neo4j\n",
      "orientdb\n",
      "cassandra\n",
      "postgres\n",
      "mysql\n",
      "memsql\n",
      "voltdb\n",
      "cockroach\n",
      "[\"./cockroach sql --insecure --execute='create database if not exists mock;'\", 'psql -p 26257 -h 172.18.0.2 -d mock -U root < /shared_data/postgres_dump.sql']\n",
      "mongo: 0.2069995403289795\n",
      "redis: 0.009001731872558594\n",
      "neo4j: 1.6419987678527832\n",
      "orientdb: 3.328256607055664\n",
      "cassandra: 0.7610006332397461\n",
      "postgres: 0.20639920234680176\n",
      "mysql: 0.1461167335510254\n",
      "memsql: 0.523759126663208\n",
      "voltdb: 0.6352338790893555\n",
      "cockroach: 0.18915724754333496\n"
     ]
    }
   ],
   "source": [
    "(unindexed_read_times_avg, unindexed_read_times_peak) = average_time2(unindexed_read_commands, containers, num_of_runs)\n",
    "unindexed_read_times_avg[1] = 0; # redis has no unindexed search"
   ]
  },
  {
   "cell_type": "markdown",
   "metadata": {},
   "source": [
    "### Results"
   ]
  },
  {
   "cell_type": "code",
   "execution_count": 19,
   "metadata": {
    "collapsed": false,
    "scrolled": false
   },
   "outputs": [
    {
     "data": {
      "image/png": "[encoded data removed]",
      "text/plain": [
       "<matplotlib.figure.Figure at 0x277c72dcbe0>"
      ]
     },
     "metadata": {},
     "output_type": "display_data"
    }
   ],
   "source": [
    "bar_plot(unindexed_read_times_avg, containers, colours, \"Average search time\")"
   ]
  },
  {
   "cell_type": "markdown",
   "metadata": {
    "collapsed": true
   },
   "source": [
    "### Indexed Search Commands"
   ]
  },
  {
   "cell_type": "code",
   "execution_count": 20,
   "metadata": {
    "collapsed": true
   },
   "outputs": [],
   "source": [
    "indexed_read_commands = [\n",
    "    r\"\"\"docker exec --privileged mongo mongo testing_db --eval \"db.customers.find({Id:{{id}}}).pretty().shellPrint()\" \"\"\",\n",
    "    r\"\"\"docker exec --privileged redis sh -c \"echo GET {{id}}} | redis-cli\" \"\"\",\n",
    "    r\"\"\"docker exec --privileged neo4j sh -c \"echo \\\"MATCH (n) WHERE ID(n) = {{id}}} RETURN n;\\\" | /var/lib/neo4j/bin/cypher-shell\" \"\"\",\n",
    "    r\"\"\"docker exec --privileged orientdb /orientdb/bin/console.sh \"connect plocal:/temp/databases/mock admin admin; select from Customer where Id = {{id}}}\" \"\"\",\n",
    "    r\"\"\"docker exec --privileged cassandra cqlsh -k mock_keyspace -e \"select * from customers where id = {{id}}} allow filtering;\" \"\"\",\n",
    "    r\"\"\"docker exec --privileged postgres sh -c \"echo \\\"SELECT * FROM customers where id = {{id}}}\\\" | psql -U postgres mock\" \"\"\", #postgres\n",
    "    r\"\"\"docker exec --privileged mysql mysql -u root --password=password --database mock -e \"SELECT * FROM customers where id = {{id}}}\" \"\"\",\n",
    "    r\"\"\"docker exec --privileged memsql memsql-shell --database mock -e \"SELECT * FROM customers where id = {{id}}}\" \"\"\",\n",
    "    r\"\"\"docker exec --privileged voltdb sh -c \"echo \\\"SELECT * FROM customers where id = {{id}}}\\\" | sqlcmd\"  \"\"\",\n",
    "    r\"\"\"docker exec --privileged cockroach ./cockroach sql --insecure --execute=\"SET DATABASE = mock; SELECT * FROM customers where id = {{id}}};\" \"\"\" \n",
    "]"
   ]
  },
  {
   "cell_type": "markdown",
   "metadata": {},
   "source": [
    "#### Iterating"
   ]
  },
  {
   "cell_type": "code",
   "execution_count": 21,
   "metadata": {
    "collapsed": false
   },
   "outputs": [
    {
     "name": "stdout",
     "output_type": "stream",
     "text": [
      "iteration 1\n",
      "waiting...\n",
      "mongo\n",
      "redis\n",
      "neo4j\n",
      "orientdb\n",
      "cassandra\n",
      "postgres\n",
      "mysql\n",
      "memsql\n",
      "voltdb\n",
      "cockroach\n",
      "mongo: 0.2610602378845215\n",
      "redis: 0.34110355377197266\n",
      "neo4j: 1.4860024452209473\n",
      "orientdb: 2.6303131580352783\n",
      "cassandra: 0.6180005073547363\n",
      "postgres: 0.20868349075317383\n",
      "mysql: 0.1540694236755371\n",
      "memsql: 0.2983689308166504\n",
      "voltdb: 0.5526065826416016\n",
      "cockroach: 0.17835760116577148\n"
     ]
    }
   ],
   "source": [
    "(indexed_read_times_avg, indexed_read_times_peak) = average_time2(indexed_read_commands, containers, num_of_runs)"
   ]
  },
  {
   "cell_type": "markdown",
   "metadata": {},
   "source": [
    "### Results"
   ]
  },
  {
   "cell_type": "code",
   "execution_count": 22,
   "metadata": {
    "collapsed": false
   },
   "outputs": [
    {
     "data": {
      "image/png": "[encoded data removed]",
      "text/plain": [
       "<matplotlib.figure.Figure at 0x277c718a160>"
      ]
     },
     "metadata": {},
     "output_type": "display_data"
    }
   ],
   "source": [
    "bar_plot(indexed_read_times_avg, containers, colours, \"Average indexed search time\")"
   ]
  },
  {
   "cell_type": "markdown",
   "metadata": {},
   "source": [
    "### Aggregate Functions Commands"
   ]
  },
  {
   "cell_type": "code",
   "execution_count": 23,
   "metadata": {
    "collapsed": true
   },
   "outputs": [],
   "source": [
    "aggregate_read_commands = [\n",
    "    r\"\"\"docker exec --privileged mongo mongo testing_db --eval 'db.customers.aggregate(    [      { $group: { \"_id\": \"$first_name\", \"avg\": { $avg: \"$income\" } } }    ] ).pretty().shellPrint();' \"\"\",\n",
    "    r\"\"\"docker exec --privileged redis sh -c \"echo zcount mylist -inf +inf | redis-cli\" \"\"\",\n",
    "    r\"\"\"docker exec --privileged neo4j sh -c \"echo \\\"match (n:Customer) return avg(n.income);\\\" | /var/lib/neo4j/bin/cypher-shell\" \"\"\",\n",
    "    r\"\"\"docker exec --privileged orientdb /orientdb/bin/console.sh \"connect plocal:/temp/databases/mock admin admin; select avg(income) FROM Customer\" \"\"\",\n",
    "    r\"\"\"docker exec --privileged cassandra cqlsh -k mock_keyspace -e \"select avg(income) as avg_income from customers;\" \"\"\",\n",
    "    r\"\"\"docker exec --privileged postgres sh -c \"echo \\\"select avg(income) as avg_income from customers\\\" | psql -U postgres mock\" \"\"\", #postgres\n",
    "    r\"\"\"docker exec --privileged mysql mysql -u root --password=password --database mock -e \"select avg(income) as avg_income from customers\" \"\"\",\n",
    "    r\"\"\"docker exec --privileged memsql memsql-shell --database mock -e \"select avg(income) as avg_income from customers\" \"\"\",\n",
    "    r\"\"\"docker exec --privileged voltdb sh -c \"echo \\\"select avg(income) as avg_income from customers\\\" | sqlcmd\"  \"\"\",\n",
    "    r\"\"\"docker exec --privileged cockroach ./cockroach sql --insecure --execute=\"SET DATABASE = mock; select avg(income) as avg_income from customers;\" \"\"\" \n",
    "]"
   ]
  },
  {
   "cell_type": "markdown",
   "metadata": {},
   "source": [
    "#### Iterating"
   ]
  },
  {
   "cell_type": "code",
   "execution_count": 24,
   "metadata": {
    "collapsed": false
   },
   "outputs": [
    {
     "name": "stdout",
     "output_type": "stream",
     "text": [
      "iteration 1\n",
      "waiting...\n",
      "mongo\n",
      "redis\n",
      "neo4j\n",
      "orientdb\n",
      "cassandra\n",
      "postgres\n",
      "mysql\n",
      "memsql\n",
      "voltdb\n",
      "cockroach\n",
      "mongo: 0.3500034809112549\n",
      "redis: 0.18399977684020996\n",
      "neo4j: 2.1082656383514404\n",
      "orientdb: 3.933286428451538\n",
      "cassandra: 1.2860004901885986\n",
      "postgres: 0.19020628929138184\n",
      "mysql: 0.1783127784729004\n",
      "memsql: 0.6004183292388916\n",
      "voltdb: 0.5440230369567871\n",
      "cockroach: 0.15413928031921387\n"
     ]
    }
   ],
   "source": [
    "(aggregate_read_times_avg, aggregate_read_times_peak) = average_time2(aggregate_read_commands, containers, num_of_runs)"
   ]
  },
  {
   "cell_type": "markdown",
   "metadata": {},
   "source": [
    "### Results"
   ]
  },
  {
   "cell_type": "code",
   "execution_count": 25,
   "metadata": {
    "collapsed": false
   },
   "outputs": [
    {
     "data": {
      "image/png": "[encoded data removed]",
      "text/plain": [
       "<matplotlib.figure.Figure at 0x277c76d8e80>"
      ]
     },
     "metadata": {},
     "output_type": "display_data"
    }
   ],
   "source": [
    "bar_plot(aggregate_read_times_avg, containers, colours, \"Average aggregation time\")"
   ]
  },
  {
   "cell_type": "markdown",
   "metadata": {},
   "source": [
    "### Join Commands\n",
    "MongoDB, Redis, OrientDB, Cassandra do not allow join operations."
   ]
  },
  {
   "cell_type": "code",
   "execution_count": 26,
   "metadata": {
    "collapsed": true
   },
   "outputs": [],
   "source": [
    "join_commands = [\n",
    "    \"\",\n",
    "    \"\",\n",
    "    r\"\"\"docker exec --privileged neo4j sh -c \"echo \\\"MATCH (n:Customer)-[:Autoedge]->(m:Customer) WHERE n.firstName = m.firstName RETURN n, m;\\\" | /var/lib/neo4j/bin/cypher-shell\" \"\"\",\n",
    "    \"\",\n",
    "    \"\",\n",
    "    r\"\"\"docker exec --privileged postgres sh -c \"psql -q -U postgres mock -c 'select * from customers a, customers b where a.first_name = b.first_name;' > join.txt\" \"\"\",\n",
    "    r\"\"\"docker exec --privileged mysql sh -c \"mysql -u root --password=password --database mock -e 'select * from customers a, customers b where a.first_name = b.first_name;' > join.txt \" \"\"\",\n",
    "    r\"\"\"docker exec --privileged memsql sh -c \"memsql-shell --database mock -e 'select * from customers a, customers b where a.first_name = b.first_name;' > join.txt\" \"\"\",\n",
    "    r\"\"\"docker exec --privileged voltdb sh -c \"echo 'select * from customers a, customers b where a.first_name = b.first_name;' | sqlcmd > join.txt\"  \"\"\",\n",
    "    r\"\"\"docker exec --privileged cockroach sh -c \"./cockroach sql --insecure --execute='SET DATABASE = mock; select * from customers a, customers b where a.first_name = b.first_name;' > join.txt\" \"\"\" \n",
    "]"
   ]
  },
  {
   "cell_type": "markdown",
   "metadata": {},
   "source": [
    "#### Iterating"
   ]
  },
  {
   "cell_type": "code",
   "execution_count": 27,
   "metadata": {
    "collapsed": false
   },
   "outputs": [
    {
     "name": "stdout",
     "output_type": "stream",
     "text": [
      "iteration 1\n",
      "waiting...\n",
      "mongo\n",
      "redis\n",
      "neo4j\n",
      "orientdb\n",
      "cassandra\n",
      "postgres\n",
      "mysql\n",
      "memsql\n",
      "voltdb\n",
      "cockroach\n",
      "mongo: 0.011010408401489258\n",
      "redis: 0.0069980621337890625\n",
      "neo4j: 1.2839999198913574\n",
      "orientdb: 0.005999565124511719\n",
      "cassandra: 0.006000518798828125\n",
      "postgres: 0.7616000175476074\n",
      "mysql: 12.465137004852295\n",
      "memsql: 1.2773466110229492\n",
      "voltdb: 6.6590189933776855\n",
      "cockroach: 0.17409968376159668\n"
     ]
    }
   ],
   "source": [
    "(join_times_avg, join_times_peak) = average_time2(join_commands, containers, num_of_runs)\n",
    "join_times_avg[0] = 0; # mongodb does not support relational join operation\n",
    "join_times_avg[1] = 0; # redis does not support relational join operation\n",
    "join_times_avg[3] = 0; # orientdb does not support relational join operation\n",
    "join_times_avg[4] = 0; # cassandra does not support relational join operation"
   ]
  },
  {
   "cell_type": "markdown",
   "metadata": {},
   "source": [
    "### Results"
   ]
  },
  {
   "cell_type": "code",
   "execution_count": 28,
   "metadata": {
    "collapsed": false
   },
   "outputs": [
    {
     "data": {
      "image/png": "[encoded data removed]",
      "text/plain": [
       "<matplotlib.figure.Figure at 0x277c76c06d8>"
      ]
     },
     "metadata": {},
     "output_type": "display_data"
    }
   ],
   "source": [
    "bar_plot(join_times_avg, containers, colours, \"Average join time\")"
   ]
  },
  {
   "cell_type": "markdown",
   "metadata": {},
   "source": [
    "## Throughput"
   ]
  },
  {
   "cell_type": "code",
   "execution_count": 29,
   "metadata": {
    "collapsed": true
   },
   "outputs": [],
   "source": [
    "def read_throughput(commands, containers, iterations=100, verbose=True, import_data=True):\n",
    "    times = [0] * len(containers)\n",
    "    ratios = [0] * len(containers)\n",
    "    _ = run_command('D: && cd \"D:\\GitHub\\BigData\\Project2\\Docker\" && docker-compose up -d', verbose=False)\n",
    "    time.sleep(25) \n",
    "    for i in range(0, len(containers)):\n",
    "        #imports\n",
    "        if verbose:\n",
    "            print(containers[i])\n",
    "            \n",
    "        coackroach_ip = \"\"\n",
    "        \n",
    "        app1 = data_import_commands[i]\n",
    "        app2 = commands[i]\n",
    "        \n",
    "        if containers[i] == \"cockroach\":\n",
    "            ip = run_command('docker exec cockroach ip route', verbose=False)\n",
    "            ip = ip[len(ip)-2].split(\" \")\n",
    "            ip = ip[len(ip)-2]\n",
    "            cockroach_ip = ip\n",
    "            data_import_commands[i][1] = data_import_commands[i][1].replace(\"{{cockroach_ip}}\", cockroach_ip)\n",
    "        if import_data:\n",
    "            if containers[i] == \"redis\":\n",
    "                exec_and_time2(\"redis\", r\"\"\"docker exec --privileged redis sh -c \"cat /shared_data/mock_data_10000_set.csv | redis-cli --pipe\" \"\"\", verbose=False, save_mem=True)\n",
    "            else: \n",
    "                exec_and_time(containers[i], data_import_commands[i], verbose=False, save_mem=True)\n",
    "        if containers[i] == \"neo4j\":\n",
    "            exec_and_time2(\"neo4j\", r\"\"\"docker exec --privileged neo4j sh -c \"echo \\\"MATCH (n:Customer) CREATE (n)-[r:Autoedge]->(n) RETURN r;\\\" | /var/lib/neo4j/bin/cypher-shell\" \"\"\", verbose=False, save_mem=True)\n",
    "        #queries\n",
    "        start = time.time()\n",
    "        for j in range(0, iterations):  \n",
    "            _ = exec_and_time2(containers[i], commands[i].replace(\"{{id}}\", str(random.randrange(0, 9999, 1))), verbose=False, save_mem=True)\n",
    "        \n",
    "        data_import_commands[i] = app1\n",
    "        commands[i] = app2\n",
    "        \n",
    "        end = time.time()\n",
    "        times[i] = end - start\n",
    "        ratios[i] = iterations/times[i]\n",
    "    _ = run_command('D: && cd \"D:\\GitHub\\BigData\\Project2\\Docker\" && docker-compose down', verbose=False)\n",
    "    for i in range(0, len(containers)):\n",
    "        print(containers[i] + \": \" + str(ratios[i]))\n",
    "    return ratios"
   ]
  },
  {
   "cell_type": "code",
   "execution_count": 30,
   "metadata": {
    "collapsed": false
   },
   "outputs": [
    {
     "name": "stdout",
     "output_type": "stream",
     "text": [
      "mongo\n",
      "redis\n",
      "neo4j\n",
      "orientdb\n",
      "cassandra\n",
      "postgres\n",
      "mysql\n",
      "memsql\n",
      "voltdb\n",
      "cockroach\n",
      "mongo: 3.127886690710522\n",
      "redis: 6.31311946945945\n",
      "neo4j: 1.3316577378406775\n",
      "orientdb: 0.4103236682992921\n",
      "cassandra: 1.8575111438162117\n",
      "postgres: 6.802823567269274\n",
      "mysql: 7.618693327133225\n",
      "memsql: 6.055441532986915\n",
      "voltdb: 1.5387944371733464\n",
      "cockroach: 7.539901596495296\n"
     ]
    }
   ],
   "source": [
    "indexed_read_throughput = read_throughput(indexed_read_commands, containers, 5)"
   ]
  },
  {
   "cell_type": "markdown",
   "metadata": {},
   "source": [
    "### Results"
   ]
  },
  {
   "cell_type": "code",
   "execution_count": 31,
   "metadata": {
    "collapsed": false
   },
   "outputs": [
    {
     "data": {
      "image/png": "[encoded data removed]",
      "text/plain": [
       "<matplotlib.figure.Figure at 0x277c6f62ba8>"
      ]
     },
     "metadata": {},
     "output_type": "display_data"
    }
   ],
   "source": [
    "bar_plot(indexed_read_throughput, containers, colours, \"Indexed read throughput\")"
   ]
  },
  {
   "cell_type": "code",
   "execution_count": 33,
   "metadata": {
    "collapsed": false
   },
   "outputs": [
    {
     "data": {
      "image/png": "[encoded data removed]",
      "text/plain": [
       "<matplotlib.figure.Figure at 0x277c6df0d68>"
      ]
     },
     "metadata": {},
     "output_type": "display_data"
    }
   ],
   "source": [
    "write_throughput = [10000/x for x in import_times_avg]\n",
    "\n",
    "bar_plot(write_throughput, containers, colours, \"Average bulk import time\")"
   ]
  },
  {
   "cell_type": "code",
   "execution_count": null,
   "metadata": {
    "collapsed": true
   },
   "outputs": [],
   "source": []
  }
 ],
 "metadata": {
  "anaconda-cloud": {},
  "kernelspec": {
   "display_name": "Python [default]",
   "language": "python",
   "name": "python3"
  },
  "language_info": {
   "codemirror_mode": {
    "name": "ipython",
    "version": 3
   },
   "file_extension": ".py",
   "mimetype": "text/x-python",
   "name": "python",
   "nbconvert_exporter": "python",
   "pygments_lexer": "ipython3",
   "version": "3.5.2"
  }
 },
 "nbformat": 4,
 "nbformat_minor": 1
}
