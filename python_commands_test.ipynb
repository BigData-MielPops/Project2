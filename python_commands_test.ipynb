{
 "cells": [
  {
   "cell_type": "markdown",
   "metadata": {},
   "source": [
    "# SQL vs NoSql vs NewSql"
   ]
  },
  {
   "cell_type": "markdown",
   "metadata": {},
   "source": [
    "This notebook is used to run code and generate graphs"
   ]
  },
  {
   "cell_type": "markdown",
   "metadata": {},
   "source": [
    "### Config"
   ]
  },
  {
   "cell_type": "code",
   "execution_count": 1,
   "metadata": {
    "collapsed": true
   },
   "outputs": [],
   "source": [
    "num_of_runs = 3"
   ]
  },
  {
   "cell_type": "markdown",
   "metadata": {},
   "source": [
    "### Imports"
   ]
  },
  {
   "cell_type": "code",
   "execution_count": 2,
   "metadata": {
    "collapsed": false
   },
   "outputs": [],
   "source": [
    "import subprocess\n",
    "import os\n",
    "import time\n",
    "import re\n",
    "import postgres_import as pos_i\n",
    "import mysql_import as my_i\n",
    "import memsql_import as mem_i"
   ]
  },
  {
   "cell_type": "markdown",
   "metadata": {},
   "source": [
    "### Helper function to generate a bar plot graph"
   ]
  },
  {
   "cell_type": "code",
   "execution_count": 3,
   "metadata": {
    "collapsed": true
   },
   "outputs": [],
   "source": [
    "import numpy as np\n",
    "from matplotlib import pyplot as plt\n",
    "\n",
    "def bar_plot(data, items, colours, title):\n",
    "    fig = plt.figure()\n",
    "\n",
    "    width = .45\n",
    "    ind = np.arange(len(data))\n",
    "    \n",
    "    plt.bar(0.3+ind, data, width=width, color=colours)\n",
    "    plt.xticks(0.3+ind + width / 2, items)\n",
    "    plt.title(title)\n",
    "\n",
    "    fig.autofmt_xdate()\n",
    "\n",
    "    plt.show()"
   ]
  },
  {
   "cell_type": "markdown",
   "metadata": {},
   "source": [
    "### Helper function to run commands inside a shell"
   ]
  },
  {
   "cell_type": "code",
   "execution_count": 4,
   "metadata": {
    "collapsed": true
   },
   "outputs": [],
   "source": [
    "def run_command(command, verbose=True, save_mem=False):\n",
    "    process = subprocess.Popen(command, stdout=subprocess.PIPE, stderr=subprocess.STDOUT, shell=True)\n",
    "    returncode = process.wait()\n",
    "    output = \"\"\n",
    "    if not(save_mem):\n",
    "        output = process.stdout.read().decode('utf-8', 'replace').replace(\"\\r\", \"\").split(\"\\n\")\n",
    "        if verbose: \n",
    "            for line in output:\n",
    "                print (line)\n",
    "    return output\n",
    "\n",
    "def run_command2(command, verbose=True, save_mem=False):\n",
    "    process = subprocess.Popen(command, stdout=subprocess.PIPE, shell=True)\n",
    "    returncode = process.wait()\n",
    "    output = \"\"\n",
    "    if not(save_mem):\n",
    "        output = process.stdout.read().decode('utf-8', 'replace').replace(\"\\r\", \"\").split(\"\\n\")\n",
    "        if verbose: \n",
    "            for line in output:\n",
    "                print (line)\n",
    "    return output"
   ]
  },
  {
   "cell_type": "markdown",
   "metadata": {},
   "source": [
    "## Starting all the docker containers to check if it's all right"
   ]
  },
  {
   "cell_type": "code",
   "execution_count": 5,
   "metadata": {
    "collapsed": false
   },
   "outputs": [
    {
     "name": "stdout",
     "output_type": "stream",
     "text": [
      "voltdb is up-to-date\n",
      "memsql is up-to-date\n",
      "Creating mysql\n",
      "Creating cockroach\n",
      "Creating nuodb\n",
      "Creating orientdb\n",
      "Creating trafodion\n",
      "Creating neo4j\n",
      "Creating redis\n",
      "Creating mongo\n",
      "Creating cassandra\n",
      "Creating postgres\n",
      "\n"
     ]
    }
   ],
   "source": [
    "_ = run_command('D: && cd \"D:\\GitHub\\BigData\\Project2\\Docker\" && docker-compose up -d')"
   ]
  },
  {
   "cell_type": "markdown",
   "metadata": {},
   "source": [
    "We will need the local ip of the Coackroach container for later use."
   ]
  },
  {
   "cell_type": "code",
   "execution_count": 6,
   "metadata": {
    "collapsed": false
   },
   "outputs": [
    {
     "name": "stdout",
     "output_type": "stream",
     "text": [
      "172.18.0.9\n"
     ]
    }
   ],
   "source": [
    "ip = run_command('docker exec cockroach ip route', verbose=False)\n",
    "ip = ip[len(ip)-2].split(\" \")\n",
    "ip = ip[len(ip)-2]\n",
    "coackroach_ip = ip\n",
    "print(coackroach_ip)"
   ]
  },
  {
   "cell_type": "markdown",
   "metadata": {},
   "source": [
    "## Stopping all the containers\n",
    "Test functions will start and stop the containers many times in order to accurately measure times."
   ]
  },
  {
   "cell_type": "code",
   "execution_count": 7,
   "metadata": {
    "collapsed": false
   },
   "outputs": [
    {
     "name": "stdout",
     "output_type": "stream",
     "text": [
      "Stopping postgres ... \n",
      "Stopping cassandra ... \n",
      "Stopping mongo ... \n",
      "Stopping redis ... \n",
      "Stopping cockroach ... \n",
      "Stopping nuodb ... \n",
      "Stopping trafodion ... \n",
      "Stopping orientdb ... \n",
      "Stopping mysql ... \n",
      "Stopping neo4j ... \n",
      "Stopping voltdb ... \n",
      "Stopping memsql ... \n",
      "\u001b[10A\u001b[2KStopping mongo ... done\u001b[10B\u001b[7A\u001b[2KStopping nuodb ... done\u001b[7B\u001b[9A\u001b[2KStopping redis ... done\u001b[9B\u001b[8A\u001b[2KStopping cockroach ... done\u001b[8B\u001b[3A\u001b[2KStopping neo4j ... done\u001b[3B\u001b[2A\u001b[2KStopping voltdb ... done\u001b[2B\u001b[5A\u001b[2KStopping orientdb ... done\u001b[5B\u001b[12A\u001b[2KStopping postgres ... done\u001b[12B\u001b[1A\u001b[2KStopping memsql ... done\u001b[1B\u001b[11A\u001b[2KStopping cassandra ... done\u001b[11B\u001b[6A\u001b[2KStopping trafodion ... done\u001b[6B\u001b[4A\u001b[2KStopping mysql ... done\u001b[4BRemoving postgres ... \n",
      "Removing cassandra ... \n",
      "Removing mongo ... \n",
      "Removing redis ... \n",
      "Removing cockroach ... \n",
      "Removing nuodb ... \n",
      "Removing trafodion ... \n",
      "Removing orientdb ... \n",
      "Removing mysql ... \n",
      "Removing neo4j ... \n",
      "Removing voltdb ... \n",
      "Removing memsql ... \n",
      "\u001b[10A\u001b[2KRemoving mongo ... done\u001b[10B\u001b[4A\u001b[2KRemoving mysql ... done\u001b[4B\u001b[5A\u001b[2KRemoving orientdb ... done\u001b[5B\u001b[8A\u001b[2KRemoving cockroach ... done\u001b[8B\u001b[9A\u001b[2KRemoving redis ... done\u001b[9B\u001b[1A\u001b[2KRemoving memsql ... done\u001b[1B\u001b[7A\u001b[2KRemoving nuodb ... done\u001b[7B\u001b[6A\u001b[2KRemoving trafodion ... done\u001b[6B\u001b[11A\u001b[2KRemoving cassandra ... done\u001b[11B\u001b[2A\u001b[2KRemoving voltdb ... done\u001b[2B\u001b[12A\u001b[2KRemoving postgres ... done\u001b[12B\u001b[3A\u001b[2KRemoving neo4j ... done\u001b[3BRemoving network docker_default\n",
      "\n"
     ]
    }
   ],
   "source": [
    "_ = run_command('D: && cd \"D:\\GitHub\\BigData\\Project2\\Docker\" && docker-compose down')"
   ]
  },
  {
   "cell_type": "markdown",
   "metadata": {},
   "source": [
    "## Definitions"
   ]
  },
  {
   "cell_type": "code",
   "execution_count": 8,
   "metadata": {
    "collapsed": true
   },
   "outputs": [],
   "source": [
    "postgres_container = \"postgres\"\n",
    "containers = [\"mongo\", \"redis\", \"neo4j\", \"orientdb\", \"cassandra\", postgres_container, \"mysql\", \"memsql\", \"voltdb\", \"cockroach\"]\n",
    "colours = [\"lightgreen\", \"red\", \"deepskyblue\", \"orange\", \"skyblue\", \"lightsteelblue\", \"steelblue\", \"cornflowerblue\", \"firebrick\", \"darkgreen\"]"
   ]
  },
  {
   "cell_type": "markdown",
   "metadata": {},
   "source": [
    "### Helper functions to run tests and measure the time taken"
   ]
  },
  {
   "cell_type": "code",
   "execution_count": 9,
   "metadata": {
    "collapsed": false
   },
   "outputs": [],
   "source": [
    "def exec_and_time(container, command, verbose=True, save_mem=False):\n",
    "    start = time.time()\n",
    "    if container == postgres_container or container == \"mysql\" or container == \"memsql\":\n",
    "        command[0](os.path.join(os.path.abspath('./Docker/shared_data'),command[1]))\n",
    "    elif container == \"cockroach\":\n",
    "        _ = run_command('docker exec --privileged ' + container + ' sh -c \"' + command[0] + '\"', verbose, save_mem)\n",
    "        _ = run_command('docker exec --privileged --user postgres '+ postgres_container +' sh -c \"' + command[1] + '\"', verbose, save_mem)\n",
    "    elif container == \"cassandra\":\n",
    "        _ = run_command2('docker exec --privileged ' + container + ' '+ command[0] +' -c \"' + command[1] + '\"', verbose, save_mem)\n",
    "    else: \n",
    "        _ = run_command('docker exec --privileged ' + container + ' sh -c \"' + command + '\"', verbose, save_mem)\n",
    "    end = time.time()\n",
    "    return end - start"
   ]
  },
  {
   "cell_type": "code",
   "execution_count": 10,
   "metadata": {
    "collapsed": false
   },
   "outputs": [],
   "source": [
    "def average_time(commands, containers, iterations, verbose=True, import_data=False):\n",
    "    times = [0] * len(containers)\n",
    "    peak_times = [0] * len(containers)\n",
    "    for j in range(0, iterations):\n",
    "        if verbose:\n",
    "            print(\"iteration \" + str(j+1))\n",
    "        _ = run_command('D: && cd \"D:\\GitHub\\BigData\\Project2\\Docker\" && docker-compose up -d', verbose=False)\n",
    "        if verbose:\n",
    "            print(\"waiting...\")\n",
    "        time.sleep(25) \n",
    "        for i in range(0, len(containers)):\n",
    "            if verbose:\n",
    "                print(containers[i])\n",
    "            if import_data:\n",
    "                exec_and_time(containers[i], data_import_commands[i], verbose=False, save_mem=True)\n",
    "            time_taken = exec_and_time(containers[i], commands[i], verbose=False, save_mem=True)\n",
    "            times[i] += time_taken\n",
    "            if peak_times[i] < time_taken:\n",
    "                peak_times[i] = time_taken\n",
    "        _ = run_command('D: && cd \"D:\\GitHub\\BigData\\Project2\\Docker\" && docker-compose down', verbose=False)\n",
    "    for i in range(0, len(containers)):\n",
    "        times[i] = times[i]/iterations\n",
    "        print(containers[i] + \": \" + str(times[i]))\n",
    "    return (times, peak_times)"
   ]
  },
  {
   "cell_type": "markdown",
   "metadata": {},
   "source": [
    "## Average bulk import time"
   ]
  },
  {
   "cell_type": "markdown",
   "metadata": {},
   "source": [
    "### Import commands"
   ]
  },
  {
   "cell_type": "code",
   "execution_count": 11,
   "metadata": {
    "collapsed": false
   },
   "outputs": [],
   "source": [
    "data_import_commands = [\n",
    "    \"mongoimport --db testing_db --collection customers --type csv --headerline --file /shared_data/mock_data_10000_rows.csv\",\n",
    "    \"cat /shared_data/mock_data_10000_rows2.csv | redis-cli --pipe\",\n",
    "    \"cp /shared_data/mock_data_10000_neo.csv /var/lib/neo4j/import && cat /shared_scripts/import_mock_10000.cypher | /var/lib/neo4j/bin/cypher-shell\",\n",
    "    \"/orientdb/bin/oetl.sh /shared_scripts/import_orient_10000.json\",\n",
    "    [\"bash\", \"cqlsh -f /shared_scripts/import_mock_10000.cql\"],\n",
    "    [pos_i.sql_import, \"mock_data_10000_rows_utf8.csv\"], #postgres\n",
    "    [my_i.sql_import, \"mock_data_10000_rows_utf8.csv\"], #mysql\n",
    "    [mem_i.sql_import, \"mock_data_10000_rows_utf8.csv\"], #memsql\n",
    "    \"cat /shared_scripts/import_voltdb.sql | sqlcmd && /opt/voltdb/bin/csvloader customers -f /shared_data/mock_data_10000_rows.csv\",\n",
    "    [\"./cockroach sql --insecure --execute='create database if not exists mock;'\", \"psql -p 26257 -h \"+ coackroach_ip +\" -d mock -U root < /shared_data/postgres_dump.sql\"]\n",
    "]"
   ]
  },
  {
   "cell_type": "markdown",
   "metadata": {},
   "source": [
    "#### Iterating"
   ]
  },
  {
   "cell_type": "code",
   "execution_count": 12,
   "metadata": {
    "collapsed": false
   },
   "outputs": [
    {
     "name": "stdout",
     "output_type": "stream",
     "text": [
      "iteration 1\n",
      "waiting...\n",
      "mongo\n",
      "redis\n",
      "neo4j\n",
      "orientdb\n",
      "cassandra\n",
      "postgres\n",
      "mysql\n",
      "memsql\n",
      "voltdb\n",
      "cockroach\n",
      "iteration 2\n",
      "waiting...\n",
      "mongo\n",
      "redis\n",
      "neo4j\n",
      "orientdb\n",
      "cassandra\n",
      "postgres\n",
      "mysql\n",
      "memsql\n",
      "voltdb\n",
      "cockroach\n",
      "iteration 3\n",
      "waiting...\n",
      "mongo\n",
      "redis\n",
      "neo4j\n",
      "orientdb\n",
      "cassandra\n",
      "postgres\n",
      "mysql\n",
      "memsql\n",
      "voltdb\n",
      "cockroach\n",
      "mongo: 1.4092012246449788\n",
      "redis: 0.3463412920633952\n",
      "neo4j: 5.820218642552693\n",
      "orientdb: 17.998886505762737\n",
      "cassandra: 4.4498982429504395\n",
      "postgres: 4.46457854906718\n",
      "mysql: 1.4065825939178467\n",
      "memsql: 3.709845542907715\n",
      "voltdb: 6.5706201394399\n",
      "cockroach: 0.9623019695281982\n"
     ]
    }
   ],
   "source": [
    "(import_times_avg, import_times_peak) = average_time(data_import_commands, containers, num_of_runs)"
   ]
  },
  {
   "cell_type": "markdown",
   "metadata": {},
   "source": [
    "### Results"
   ]
  },
  {
   "cell_type": "code",
   "execution_count": 13,
   "metadata": {
    "collapsed": false,
    "scrolled": false
   },
   "outputs": [
    {
     "data": {
      "image/png": "[encoded data removed]",
      "text/plain": [
       "<matplotlib.figure.Figure at 0x2497b5d0f60>"
      ]
     },
     "metadata": {},
     "output_type": "display_data"
    }
   ],
   "source": [
    "bar_plot(import_times_avg, containers, colours, \"Average bulk import time\")"
   ]
  },
  {
   "cell_type": "markdown",
   "metadata": {},
   "source": [
    "## Query execution time and throughput"
   ]
  },
  {
   "cell_type": "markdown",
   "metadata": {},
   "source": [
    "First we need to get some random _ids from mongo in order to test the indexed search time."
   ]
  },
  {
   "cell_type": "code",
   "execution_count": 14,
   "metadata": {
    "collapsed": false
   },
   "outputs": [],
   "source": [
    "def get_mongo_ids(test=False):\n",
    "    if test:\n",
    "        _ = run_command('D: && cd \"D:\\GitHub\\BigData\\Project2\\Docker\" && docker-compose up -d mongo')\n",
    "        time.sleep(5) \n",
    "    query_results = run_command(r\"\"\"docker exec --privileged mongo mongo testing_db --eval \"db.customers.find({first_name:'Hosea'}).pretty().shellPrint();\" \"\"\", verbose=test)\n",
    "    mongo_ids = [x[2:-2] for x in re.findall('\\(.*?\\)', ' '.join(query_results))]\n",
    "    if test:\n",
    "        _ = run_command('D: && cd \"D:\\GitHub\\BigData\\Project2\\Docker\" && docker-compose down mongo')\n",
    "    return mongo_ids\n",
    "\n",
    "#print (\"Test: \")\n",
    "#get_mongo_ids(True) #test"
   ]
  },
  {
   "cell_type": "markdown",
   "metadata": {},
   "source": [
    "### Helper functions, modified from the previous ones\n",
    "And also dependant from them."
   ]
  },
  {
   "cell_type": "code",
   "execution_count": 15,
   "metadata": {
    "collapsed": true
   },
   "outputs": [],
   "source": [
    "def exec_and_time2(container, command, verbose=True, save_mem=False):\n",
    "    start = time.time()\n",
    "    if container == \"cassandra\":\n",
    "        _ = run_command2(command, verbose, save_mem)\n",
    "    else:\n",
    "        _ = run_command(command, verbose, save_mem)\n",
    "    end = time.time()\n",
    "    return end - start"
   ]
  },
  {
   "cell_type": "code",
   "execution_count": 16,
   "metadata": {
    "collapsed": true
   },
   "outputs": [],
   "source": [
    "def average_time2(commands, containers, iterations, verbose=True, import_data=True):\n",
    "    times = [0] * len(containers)\n",
    "    peak_times = [0] * len(containers)\n",
    "    for j in range(0, iterations):\n",
    "        if verbose:\n",
    "            print(\"iteration \" + str(j+1))\n",
    "        _ = run_command('D: && cd \"D:\\GitHub\\BigData\\Project2\\Docker\" && docker-compose up -d', verbose=False)\n",
    "        if verbose:\n",
    "            print(\"waiting...\")\n",
    "        time.sleep(25) \n",
    "        for i in range(0, len(containers)):\n",
    "            if verbose:\n",
    "                print(containers[i])\n",
    "            if import_data:\n",
    "                exec_and_time(containers[i], data_import_commands[i], verbose=False, save_mem=True)\n",
    "            if containers[i] == \"mongo\":\n",
    "                m_id = get_mongo_ids()[1]; # for indexed read\n",
    "            time_taken = exec_and_time2(containers[i], commands[i].replace(\"{{id}}\", str(m_id)), verbose=False, save_mem=True)\n",
    "            times[i] += time_taken\n",
    "            if peak_times[i] < time_taken:\n",
    "                peak_times[i] = time_taken\n",
    "        _ = run_command('D: && cd \"D:\\GitHub\\BigData\\Project2\\Docker\" && docker-compose down', verbose=False)\n",
    "    for i in range(0, len(containers)):\n",
    "        times[i] = times[i]/iterations\n",
    "        print(containers[i] + \": \" + str(times[i]))\n",
    "    return (times, peak_times)"
   ]
  },
  {
   "cell_type": "markdown",
   "metadata": {},
   "source": [
    "### Unindexed Search Commands\n",
    "Redis has no unindexed search."
   ]
  },
  {
   "cell_type": "code",
   "execution_count": 17,
   "metadata": {
    "collapsed": true
   },
   "outputs": [],
   "source": [
    "unindexed_read_commands = [\n",
    "    r\"\"\"docker exec --privileged mongo mongo testing_db --eval \"db.customers.find({first_name:'Hosea'}).pretty().shellPrint();\" \"\"\",\n",
    "    \"\",\n",
    "    r\"\"\"docker exec --privileged neo4j sh -c \"echo \\\"MATCH (n) WHERE n.firstName = 'Hosea' RETURN n;\\\" | /var/lib/neo4j/bin/cypher-shell\" \"\"\",\n",
    "    r\"\"\"docker exec --privileged orientdb /orientdb/bin/console.sh \"connect plocal:/temp/databases/mock admin admin; select from Customer where first_name = 'Hosea' \" \"\"\",\n",
    "    r\"\"\"docker exec --privileged cassandra cqlsh -k mock_keyspace -e \"select * from customers where first_name = 'Hosea' allow filtering;\" \"\"\",\n",
    "    r\"\"\"docker exec --privileged postgres sh -c \"echo \\\"SELECT * FROM customers WHERE first_name = 'Hosea'\\\" | psql -U postgres mock\" \"\"\", #postgres\n",
    "    r\"\"\"docker exec --privileged mysql mysql -u root --password=password --database mock -e \"SELECT * FROM customers where first_name = 'Hosea'\" \"\"\",\n",
    "    r\"\"\"docker exec --privileged memsql memsql-shell --database mock -e \"SELECT * FROM customers where first_name = 'Hosea'\" \"\"\",\n",
    "    r\"\"\"docker exec --privileged voltdb sh -c \"echo \\\"select * from customers where first_name = 'Hosea';\\\" | sqlcmd\"  \"\"\",\n",
    "    r\"\"\"docker exec --privileged coackroach ./cockroach sql --insecure --execute=\"SET DATABASE = mock; SELECT * FROM customers WHERE first_name = 'Hosea';\" \"\"\" \n",
    "]"
   ]
  },
  {
   "cell_type": "markdown",
   "metadata": {},
   "source": [
    "#### Iterating"
   ]
  },
  {
   "cell_type": "code",
   "execution_count": 18,
   "metadata": {
    "collapsed": false
   },
   "outputs": [
    {
     "name": "stdout",
     "output_type": "stream",
     "text": [
      "iteration 1\n",
      "waiting...\n",
      "mongo\n",
      "redis\n",
      "neo4j\n",
      "orientdb\n",
      "cassandra\n",
      "postgres\n",
      "mysql\n",
      "memsql\n",
      "voltdb\n",
      "cockroach\n",
      "iteration 2\n",
      "waiting...\n",
      "mongo\n",
      "redis\n",
      "neo4j\n",
      "orientdb\n",
      "cassandra\n",
      "postgres\n",
      "mysql\n",
      "memsql\n",
      "voltdb\n",
      "cockroach\n",
      "iteration 3\n",
      "waiting...\n",
      "mongo\n",
      "redis\n",
      "neo4j\n",
      "orientdb\n",
      "cassandra\n",
      "postgres\n",
      "mysql\n",
      "memsql\n",
      "voltdb\n",
      "cockroach\n",
      "mongo: 0.30733362833658856\n",
      "redis: 0.007000446319580078\n",
      "neo4j: 2.542172908782959\n",
      "orientdb: 3.403667608896891\n",
      "cassandra: 0.726693312327067\n",
      "postgres: 0.26254796981811523\n",
      "mysql: 0.21873784065246582\n",
      "memsql: 0.7752095063527426\n",
      "voltdb: 0.61465851465861\n",
      "cockroach: 0.045345147450764976\n"
     ]
    }
   ],
   "source": [
    "(unindexed_read_times_avg, unindexed_read_times_peak) = average_time2(unindexed_read_commands, containers, num_of_runs)\n",
    "unindexed_read_times_avg[1] = 0; # redis has no unindexed search"
   ]
  },
  {
   "cell_type": "markdown",
   "metadata": {},
   "source": [
    "### Results"
   ]
  },
  {
   "cell_type": "code",
   "execution_count": 20,
   "metadata": {
    "collapsed": false,
    "scrolled": false
   },
   "outputs": [
    {
     "data": {
      "image/png": "[encoded data removed]",
      "text/plain": [
       "<matplotlib.figure.Figure at 0x2497b623cf8>"
      ]
     },
     "metadata": {},
     "output_type": "display_data"
    }
   ],
   "source": [
    "bar_plot(unindexed_read_times_avg, containers, colours, \"Average search time\")"
   ]
  },
  {
   "cell_type": "code",
   "execution_count": null,
   "metadata": {
    "collapsed": true
   },
   "outputs": [],
   "source": []
  }
 ],
 "metadata": {
  "anaconda-cloud": {},
  "kernelspec": {
   "display_name": "Python [default]",
   "language": "python",
   "name": "python3"
  },
  "language_info": {
   "codemirror_mode": {
    "name": "ipython",
    "version": 3
   },
   "file_extension": ".py",
   "mimetype": "text/x-python",
   "name": "python",
   "nbconvert_exporter": "python",
   "pygments_lexer": "ipython3",
   "version": "3.5.2"
  }
 },
 "nbformat": 4,
 "nbformat_minor": 1
}
