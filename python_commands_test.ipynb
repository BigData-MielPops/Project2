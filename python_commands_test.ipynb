{
 "cells": [
  {
   "cell_type": "code",
   "execution_count": 39,
   "metadata": {
    "collapsed": false
   },
   "outputs": [],
   "source": [
    "import subprocess\n",
    "\n",
    "def run_command(command, verbose=True):\n",
    "    process = subprocess.Popen(command, stdout=subprocess.PIPE, stderr=subprocess.STDOUT, shell=True)\n",
    "    returncode = process.wait()\n",
    "    output = process.stdout.read().decode('utf-8', 'replace').replace(\"\\r\", \"\").split(\"\\n\")\n",
    "    if verbose: \n",
    "        for line in output:\n",
    "            print (line)\n",
    "    return output"
   ]
  },
  {
   "cell_type": "code",
   "execution_count": 43,
   "metadata": {
    "collapsed": false
   },
   "outputs": [
    {
     "name": "stdout",
     "output_type": "stream",
     "text": [
      "redis is up-to-date\n",
      "mongo is up-to-date\n",
      "voltdb is up-to-date\n",
      "orientdb is up-to-date\n",
      "cockroach is up-to-date\n",
      "memsql is up-to-date\n",
      "neo4j is up-to-date\n",
      "nuodb is up-to-date\n",
      "postgres is up-to-date\n",
      "mysql is up-to-date\n",
      "cassandra is up-to-date\n",
      "trafodion is up-to-date\n",
      "\n"
     ]
    }
   ],
   "source": [
    "o = run_command('D: && cd \"D:\\OneDrive - Universita degli Studi Roma Tre\\Corsi\\Big Data\\Secondo Progetto\\BigData-Docker\" && docker-compose up -d')"
   ]
  },
  {
   "cell_type": "code",
   "execution_count": 44,
   "metadata": {
    "collapsed": false
   },
   "outputs": [
    {
     "name": "stdout",
     "output_type": "stream",
     "text": [
      "pippo\n",
      "\n"
     ]
    }
   ],
   "source": [
    "o = run_command('docker exec -i voltdb echo pippo')"
   ]
  },
  {
   "cell_type": "code",
   "execution_count": 45,
   "metadata": {
    "collapsed": false
   },
   "outputs": [
    {
     "name": "stdout",
     "output_type": "stream",
     "text": [
      "mock_data_1000_rows.json\n",
      "mock_data_1000_rows.sql\n",
      "mock_data_1000_rows.tsv\n",
      "\n"
     ]
    }
   ],
   "source": [
    "o = run_command('docker exec -i voltdb ls /shared_data')"
   ]
  },
  {
   "cell_type": "code",
   "execution_count": null,
   "metadata": {
    "collapsed": true
   },
   "outputs": [],
   "source": [
    "containers = [\"mongo\", \"redis\", \"neo4j\", \"orientdb\", \"cassandra\", \"postgres\", \"mysql\", \"memsql\", \"voltdb\", \"cockroach\"]\n",
    "data_import_commands = [\n",
    "    \"mongoimport --db testing_db --collection customers --type csv --headerline --file /shared_data/mock_data_10000_rows.csv\",\n",
    "    \"cat /shared_data/mock_data_10000_rows2.csv | redis-cli --pipe\",\n",
    "    \"/var/lib/neo4j/bin/neo4j-admin import --mode=csv --database=mock.db  --nodes:Customer /shared_data/mock_data_10000_neo.csv --id-type=string\",\n",
    "    \"/orientdb/bin/oetl.sh /shared_scripts/import_orient_10000.json\",\n",
    "    \"cqlsh -f /shared_data/import_mock_10000.cql\",\n",
    "    \"\",\n",
    "    \"\",\n",
    "    \"\",\n",
    "    \"\",\n",
    "    \"\"\n",
    "]\n"
   ]
  }
 ],
 "metadata": {
  "anaconda-cloud": {},
  "kernelspec": {
   "display_name": "Python [conda root]",
   "language": "python",
   "name": "conda-root-py"
  },
  "language_info": {
   "codemirror_mode": {
    "name": "ipython",
    "version": 3
   },
   "file_extension": ".py",
   "mimetype": "text/x-python",
   "name": "python",
   "nbconvert_exporter": "python",
   "pygments_lexer": "ipython3",
   "version": "3.5.2"
  }
 },
 "nbformat": 4,
 "nbformat_minor": 1
}
